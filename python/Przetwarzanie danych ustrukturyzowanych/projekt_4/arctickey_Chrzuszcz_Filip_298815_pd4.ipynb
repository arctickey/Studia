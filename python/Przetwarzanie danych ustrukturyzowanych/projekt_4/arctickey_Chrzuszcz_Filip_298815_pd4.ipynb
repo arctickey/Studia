{
 "cells": [
  {
   "cell_type": "code",
   "execution_count": 26,
   "metadata": {},
   "outputs": [],
   "source": [
    "import pandas as pd\n",
    "import numpy as np\n",
    "import sqlite3"
   ]
  },
  {
   "cell_type": "code",
   "execution_count": 27,
   "metadata": {},
   "outputs": [],
   "source": [
    "import tempfile\n",
    "import os\n",
    "baza = os.path.join(tempfile.mkdtemp(), \"baza.db\")\n",
    "if os.path.isfile(baza):\n",
    "    os.remove(baza)\n",
    "conn = sqlite3.connect(baza)"
   ]
  },
  {
   "cell_type": "code",
   "execution_count": 28,
   "metadata": {},
   "outputs": [],
   "source": [
    "Posts = pd.read_csv(\"./Posts.csv.gz\")\n",
    "Badges = pd.read_csv(\"./Badges.csv.gz\")\n",
    "Comments = pd.read_csv(\"./Comments.csv.gz\")\n",
    "Tags = pd.read_csv(\"./Tags.csv.gz\")\n",
    "Users = pd.read_csv(\"./Users.csv.gz\")\n",
    "Votes = pd.read_csv(\"./Votes.csv.gz\")\n",
    "PostLinks = pd.read_csv(\"./PostLinks.csv.gz\")"
   ]
  },
  {
   "cell_type": "code",
   "execution_count": 29,
   "metadata": {},
   "outputs": [],
   "source": [
    "Posts.to_sql(\"Posts\", conn)\n",
    "Badges.to_sql(\"Badges\", conn)\n",
    "Comments.to_sql(\"Comments\", conn)\n",
    "Tags.to_sql(\"Tags\", conn)\n",
    "Users.to_sql(\"Users\", conn)\n",
    "Votes.to_sql(\"Votes\", conn)\n",
    "PostLinks.to_sql(\"PostLinks\",conn)"
   ]
  },
  {
   "cell_type": "code",
   "execution_count": 44,
   "metadata": {},
   "outputs": [],
   "source": [
    "'''Celem jest znalezienie użytkowników,\n",
    "którzy uzyskali najwięcej Likes, \n",
    "wyswietlamy ich dane wraz z najwyżej ocenionym pytaniem.'''\n",
    "zad1 = pd.read_sql_query(\n",
    "    \"\"\"\n",
    "    SELECT\n",
    "Users.DisplayName,\n",
    "Users.Age,\n",
    "Users.Location,\n",
    "SUM(Posts.FavoriteCount) AS FavoriteTotal,\n",
    "Posts.Title AS MostFavoriteQuestion,\n",
    "MAX(Posts.FavoriteCount) AS MostFavoriteQuestionLikes\n",
    "FROM Posts\n",
    "JOIN Users ON Users.Id=Posts.OwnerUserId\n",
    "WHERE Posts.PostTypeId=1\n",
    "GROUP BY OwnerUserId\n",
    "ORDER BY FavoriteTotal DESC\n",
    "LIMIT 10\n",
    "    \"\"\", conn)"
   ]
  },
  {
   "cell_type": "code",
   "execution_count": 45,
   "metadata": {},
   "outputs": [
    {
     "data": {
      "text/plain": [
       "True"
      ]
     },
     "execution_count": 45,
     "metadata": {},
     "output_type": "execute_result"
    }
   ],
   "source": [
    "\n",
    "# Join ramek po Id\n",
    "tmp = pd.merge(Posts,Users,left_on=\"OwnerUserId\",right_on=\"Id\")\n",
    "# Posty z TypeId == 1 \n",
    "tmp = tmp.loc[tmp.PostTypeId==1]\n",
    "# Wybór odpowiednich kolumn\n",
    "tmp = tmp[[\"DisplayName\",\"Age\",\"Location\",\"FavoriteCount\",\"Title\",\"OwnerUserId\"]]\n",
    "# przygotowanie danych do dalszej obrobki(agregujac po OwnerUserId)\n",
    "tmpFO = tmp.groupby(\"OwnerUserId\",sort=True).agg({\"FavoriteCount\":[np.max,np.sum]}).reset_index(drop=False)\n",
    "#gubimy MultiIndex\n",
    "tmpFO.columns =tmpFO.columns.droplevel()\n",
    "#odpowiednie kolumny\n",
    "tmpFO.columns = [\"OwnerUserId\",\"amax\",\"amin\"]\n",
    "# łączenie z ramką tmp \n",
    "tmp = pd.merge(tmp,tmpFO,left_on=[\"OwnerUserId\",\"FavoriteCount\"],right_on=[\"OwnerUserId\",\"amax\"],sort=True)\n",
    "# przemianowanie kolumn na pasujace do tego co mial SQL\n",
    "tmp =tmp.rename(columns = {'Title':'MostFavoriteQuestion'})\n",
    "tmp =tmp.rename(columns = {'amax':'MostFavoriteQuestionLikes'})\n",
    "tmp =tmp.rename(columns = {'amin':'FavoriteTotal'})\n",
    "#sortowanko po Favourtie Total\n",
    "tmp.sort_values(by=['FavoriteTotal'],inplace=True,ascending=False)\n",
    "#wybranie odpiewiednich kolumn\n",
    "tmp = tmp.iloc[:, lambda tmp: [0,1,2,7,4,6]]\n",
    "tmp = tmp.reset_index(drop=True).head(10)\n",
    "tmp.equals(zad1)\n"
   ]
  },
  {
   "cell_type": "code",
   "execution_count": 32,
   "metadata": {},
   "outputs": [],
   "source": [
    "'''\n",
    "Znajdujemy pytania o najwiekszej licznie pozytywnie ocenionych odpowied\n",
    "'''\n",
    "zad2 = pd.read_sql_query(\n",
    "    \"\"\"\n",
    "SELECT\n",
    "Posts.ID,\n",
    "Posts.Title,\n",
    "Posts2.PositiveAnswerCount\n",
    "FROM Posts\n",
    "JOIN (\n",
    "SELECT\n",
    "Posts.ParentID,\n",
    "COUNT(*) AS PositiveAnswerCount\n",
    "FROM Posts\n",
    "WHERE Posts.PostTypeID=2 AND Posts.Score>0\n",
    "GROUP BY Posts.ParentID\n",
    ") AS Posts2\n",
    "ON Posts.ID=Posts2.ParentID\n",
    "ORDER BY Posts2.PositiveAnswerCount DESC\n",
    "LIMIT 10\n",
    "    \"\"\", conn)"
   ]
  },
  {
   "cell_type": "code",
   "execution_count": 33,
   "metadata": {},
   "outputs": [
    {
     "data": {
      "text/plain": [
       "True"
      ]
     },
     "execution_count": 33,
     "metadata": {},
     "output_type": "execute_result"
    }
   ],
   "source": [
    "#odpowiednie query\n",
    "pos = Posts.query(\"PostTypeId==2 and Score>0\")\n",
    "#grupuje po ParentId\n",
    "pos = pos.groupby([\"ParentId\"],sort=True).size().reset_index()\n",
    "#odpowiednie kolumny wybieram\n",
    "pos.columns = [\"ParentId\",\"PositiveAnswerCount\"]\n",
    "#ramka pomocnicza\n",
    "tmp = Posts[[\"Id\",\"Title\"]]\n",
    "#merguje to co stworzylem do tej pory\n",
    "wynik = pd.merge(tmp,pos,left_on=\"Id\",right_on = \"ParentId\")\n",
    "#sortowanko jak SQL\n",
    "wynik.sort_values(by=[\"PositiveAnswerCount\",'Id'],inplace=True,ascending=[False,True])\n",
    "#wybor odpowiednich kolumn\n",
    "wynik = wynik.iloc[:,lambda wynik:[0,1,3]].reset_index(drop=True)\n",
    "#najwyzsze 10\n",
    "wynik = wynik.head(10)\n",
    "wynik.equals(zad2)"
   ]
  },
  {
   "cell_type": "code",
   "execution_count": 34,
   "metadata": {},
   "outputs": [],
   "source": [
    "'''Znajdujemy pytania, które w danym roku otrzymały najwięcej UpVotes.\n",
    "'''\n",
    "zad3 = pd.read_sql_query(\n",
    "    \"\"\"\n",
    "SELECT\n",
    "Posts.Title,\n",
    "UpVotesPerYear.Year,\n",
    "MAX(UpVotesPerYear.Count) AS Count\n",
    "FROM (\n",
    "SELECT\n",
    "PostId,\n",
    "COUNT(*) AS Count,\n",
    "STRFTIME('%Y', Votes.CreationDate) AS Year\n",
    "FROM Votes\n",
    "WHERE VoteTypeId=2\n",
    "GROUP BY PostId, Year\n",
    ") AS UpVotesPerYear\n",
    "JOIN Posts ON Posts.Id=UpVotesPerYear.PostId\n",
    "WHERE Posts.PostTypeId=1\n",
    "GROUP BY Year\n",
    "    \"\"\", conn)"
   ]
  },
  {
   "cell_type": "code",
   "execution_count": 35,
   "metadata": {},
   "outputs": [
    {
     "data": {
      "text/plain": [
       "True"
      ]
     },
     "execution_count": 35,
     "metadata": {},
     "output_type": "execute_result"
    }
   ],
   "source": [
    "# ramka pomocnicza\n",
    "upvot = Votes.query(\"VoteTypeId == 2\")\n",
    "# wybieram rok\n",
    "upvot.loc[:,\"CreationDate\"] = upvot.CreationDate.str.slice(0, 4)\n",
    "# grupowanie po Year \n",
    "upvot = upvot.groupby([\"PostId\",\"CreationDate\"]).size().reset_index()\n",
    "upvot.columns = [\"PostId\",\"Year\",\"Count\"]\n",
    "# nowa ramka z postow tam gdzie PostTypeId ==1\n",
    "tmp = Posts.query(\"PostTypeId == 1 \")\n",
    "tmp = tmp[[\"Title\",\"Id\"]]\n",
    "#merge ramek\n",
    "wynik = pd.merge(tmp,upvot,left_on=\"Id\",right_on=\"PostId\")\n",
    "# agregacja po roku\n",
    "wynik_tmp = wynik.groupby(\"Year\").agg({\"Count\":np.max}).reset_index()\n",
    "# ostateczne polaczenie ramek\n",
    "wynik = pd.merge(wynik,wynik_tmp,on=[\"Year\",\"Count\"])\n",
    "# wybieram kolumny \n",
    "wynik = wynik.iloc[:,lambda tmp:[0,3,4]]\n",
    "wynik.equals(zad3)"
   ]
  },
  {
   "cell_type": "code",
   "execution_count": 36,
   "metadata": {},
   "outputs": [],
   "source": [
    "'''\n",
    "Znajdujemy pytania, gdzie wystąpiła największa różnica pomiędzy najwyżej oceniona odpowiedzią, a odpowiedzią oznaczoną jako \n",
    "Accepted Answer.'''\n",
    "zad4 = pd.read_sql_query(\n",
    "    \"\"\"\n",
    "SELECT\n",
    "Questions.Id,\n",
    "Questions.Title,\n",
    "BestAnswers.MaxScore,\n",
    "Posts.Score AS AcceptedScore,\n",
    "BestAnswers.MaxScore-Posts.Score AS Difference\n",
    "FROM (\n",
    "SELECT Id, ParentId, MAX(Score) AS MaxScore\n",
    "FROM Posts\n",
    "WHERE PostTypeId==2\n",
    "GROUP BY ParentId\n",
    ") AS BestAnswers\n",
    "JOIN (\n",
    "SELECT * FROM Posts\n",
    "WHERE PostTypeId==1\n",
    ") AS Questions\n",
    "ON Questions.Id=BestAnswers.ParentId\n",
    "JOIN Posts ON Questions.AcceptedAnswerId=Posts.Id\n",
    "WHERE Difference>50\n",
    "ORDER BY Difference DESC\n",
    "    \"\"\", conn)"
   ]
  },
  {
   "cell_type": "code",
   "execution_count": 37,
   "metadata": {},
   "outputs": [
    {
     "data": {
      "text/plain": [
       "True"
      ]
     },
     "execution_count": 37,
     "metadata": {},
     "output_type": "execute_result"
    }
   ],
   "source": [
    "#przygotowanie danych\n",
    "pd4 = Posts.query(\"PostTypeId==1\")\n",
    "tmp = Posts.query(\"PostTypeId==2\")\n",
    "#grupowanie po ParentId\n",
    "tmp_1 = tmp.groupby(\"ParentId\").agg({\"Score\":np.max}).reset_index()\n",
    "#merge wczesniej zrobionych ramej\n",
    "tmp = pd.merge(tmp[[\"ParentId\",\"Id\",\"Score\"]],tmp_1,on=['ParentId',\"Score\"])\n",
    "#odpowiednie nazwy\n",
    "tmp = tmp.rename(columns={\"Score\":\"MaxScore\"})\n",
    "#kolejne merge\n",
    "wynik = pd.merge(pd4,tmp,left_on=\"Id\",right_on=\"ParentId\")\n",
    "wynik = pd.merge(wynik,Posts,left_on=\"AcceptedAnswerId\",right_on=\"Id\")\n",
    "#wybranie dancyh wlasciwych\n",
    "wynik = wynik.loc[:,lambda wynik:[\"Id_x\",\"Title_x\",\"MaxScore\",\"Score_y\"]]\n",
    "#nowa kolumna Diffrence\n",
    "wynik[\"Diffrence\"] = wynik[\"MaxScore\"] - wynik[\"Score_y\"]\n",
    "#przefiltrowanie tam gdzie Diffrence >50\n",
    "wynik = wynik.query(\"Diffrence>50\")\n",
    "#posortowanie po Diffrence\n",
    "wynik.sort_values(by=\"Diffrence\",ascending=False,inplace=True)\n",
    "wynik = wynik.reset_index(drop=True)\n",
    "#aby nazwy sie zgadzaly do outputu\n",
    "wynik.columns = [\"Id\",\"Title\",\"MaxScore\",\"AcceptedScore\",\"Difference\"]\n",
    "wynik.equals(zad4)"
   ]
  },
  {
   "cell_type": "code",
   "execution_count": 38,
   "metadata": {},
   "outputs": [],
   "source": [
    "'''\n",
    "Otrzymujemy pytania do których komentarze dodane przez samego pytającego miały sumarycznie najwyższą ocenę.\n",
    "'''\n",
    "pd5 = pd.read_sql_query(\n",
    "    \"\"\"\n",
    "SELECT\n",
    "Posts.Title,\n",
    "CmtTotScr.CommentsTotalScore\n",
    "FROM (\n",
    "SELECT\n",
    "PostID,\n",
    "UserID,\n",
    "SUM(Score) AS CommentsTotalScore\n",
    "FROM Comments\n",
    "GROUP BY PostID, UserID\n",
    ") AS CmtTotScr\n",
    "JOIN Posts ON Posts.ID=CmtTotScr.PostID AND Posts.OwnerUserId=CmtTotScr.UserID\n",
    "WHERE Posts.PostTypeId=1\n",
    "ORDER BY CmtTotScr.CommentsTotalScore DESC\n",
    "LIMIT 10\n",
    "    \"\"\", conn)"
   ]
  },
  {
   "cell_type": "code",
   "execution_count": 39,
   "metadata": {},
   "outputs": [
    {
     "data": {
      "text/plain": [
       "True"
      ]
     },
     "execution_count": 39,
     "metadata": {},
     "output_type": "execute_result"
    }
   ],
   "source": [
    "#odpowiednie pogrupowanie\n",
    "cmt = Comments.groupby([\"PostId\",\"UserId\"]).agg({\"Score\":np.sum}).reset_index()\n",
    "#wybranie dokladnych tego gdzie PostTypeId ==1\n",
    "pos = Posts.query(\"PostTypeId==1\")\n",
    "#polaczenie ramek\n",
    "cmt = pd.merge(cmt,pos, left_on=[\"PostId\",\"UserId\"],right_on=[\"Id\",\"OwnerUserId\"])\n",
    "#sortowanie tak samo jak SQl\n",
    "cmt.sort_values(by=[\"Score_x\",\"PostId\"],ascending=[False,True],inplace=True)\n",
    "#wybranie docelowych kolumn\n",
    "cmt = cmt[[\"Title\",\"Score_x\"]]\n",
    "#sortowanie wyniku\n",
    "cmt.sort_values(by=[\"Score_x\"],ascending=False,inplace=True)\n",
    "#wybranie 10 z gory\n",
    "cmt = cmt.head(10).reset_index(drop=True)\n",
    "cmt.columns = [\"Title\",\"CommentsTotalScore\"]\n",
    "cmt.equals(pd5)"
   ]
  },
  {
   "cell_type": "code",
   "execution_count": 40,
   "metadata": {},
   "outputs": [],
   "source": [
    "'''Informacje o użytkownikach, którym odznakę klasy pierwszej przyznano od 2 do 10 razy.\n",
    "'''\n",
    "pd6 = pd.read_sql_query(\n",
    "\"\"\"\n",
    "SELECT DISTINCT\n",
    "Users.Id,\n",
    "Users.DisplayName,\n",
    "Users.Reputation,\n",
    "Users.Age,\n",
    "Users.Location\n",
    "FROM (\n",
    "SELECT\n",
    "Name, UserID\n",
    "FROM Badges\n",
    "WHERE Name IN (\n",
    "SELECT\n",
    "Name\n",
    "FROM Badges\n",
    "WHERE Class=1\n",
    "GROUP BY Name\n",
    "HAVING COUNT(*) BETWEEN 2 AND 10\n",
    ")\n",
    "AND Class=1\n",
    ") AS ValuableBadges\n",
    "JOIN Users ON ValuableBadges.UserId=Users.Id\n",
    "\"\"\",conn)"
   ]
  },
  {
   "cell_type": "code",
   "execution_count": 41,
   "metadata": {},
   "outputs": [
    {
     "data": {
      "text/plain": [
       "True"
      ]
     },
     "execution_count": 41,
     "metadata": {},
     "output_type": "execute_result"
    }
   ],
   "source": [
    "# Ramka pomocnicza\n",
    "wyn = Badges.query(\"Class==1\")\n",
    "# grupuje po kolumnie Name\n",
    "wyn = wyn.groupby(\"Name\").size().reset_index()\n",
    "wyn = wyn.rename(columns={0:\"Count\"})\n",
    "wyn =wyn.query(\"10>=Count>=2\")\n",
    "\n",
    "# lista z opserwcjami z Name \n",
    "wyn = wyn[\"Name\"].tolist()\n",
    "# odpowiednie wiersze z Badges\n",
    "bad = Badges[Badges.Name.isin(wyn)]\n",
    "bad = bad.query(\"Class==1\")\n",
    "bad = bad[[\"Name\",\"UserId\"]]\n",
    "# merge z Users\n",
    "wynik = pd.merge(bad,Users,left_on=\"UserId\",right_on=\"Id\")\n",
    "wynik = wynik.iloc[:,lambda tmp:[7,5,10,3,9]].drop_duplicates().reset_index(drop=True)\n",
    "wynik.equals(pd6)"
   ]
  },
  {
   "cell_type": "code",
   "execution_count": 42,
   "metadata": {},
   "outputs": [],
   "source": [
    "'''Otrzymujemy pytania, które przed 2016 otrzymały najwięcej UpVotes.\n",
    "'''\n",
    "pd7 = pd.read_sql_query(\n",
    "\"\"\"\n",
    "SELECT\n",
    "Posts.Title,\n",
    "VotesByAge2.OldVotes\n",
    "FROM Posts\n",
    "JOIN (\n",
    "SELECT\n",
    "PostId,\n",
    "MAX(CASE WHEN VoteDate = 'new' THEN Total ELSE 0 END) NewVotes,\n",
    "MAX(CASE WHEN VoteDate = 'old' THEN Total ELSE 0 END) OldVotes,\n",
    "SUM(Total) AS Votes\n",
    "FROM (\n",
    "SELECT\n",
    "PostId,\n",
    "CASE STRFTIME('%Y', CreationDate)\n",
    "WHEN '2017' THEN 'new'\n",
    "WHEN '2016' THEN 'new'\n",
    "ELSE 'old'\n",
    "END VoteDate,\n",
    "COUNT(*) AS Total\n",
    "FROM Votes\n",
    "WHERE VoteTypeId=2\n",
    "GROUP BY PostId, VoteDate\n",
    ") AS VotesByAge\n",
    "GROUP BY VotesByAge.PostId\n",
    "HAVING NewVotes=0\n",
    ") AS VotesByAge2 ON VotesByAge2.PostId=Posts.ID\n",
    "WHERE Posts.PostTypeId=1\n",
    "ORDER BY VotesByAge2.OldVotes DESC\n",
    "LIMIT 10\n",
    "\"\"\",conn)"
   ]
  },
  {
   "cell_type": "code",
   "execution_count": 43,
   "metadata": {},
   "outputs": [
    {
     "data": {
      "text/plain": [
       "True"
      ]
     },
     "execution_count": 43,
     "metadata": {},
     "output_type": "execute_result"
    }
   ],
   "source": [
    "#wybieramy odpowiednie dane\n",
    "zd7 = Votes.query(\"VoteTypeId==2\")\n",
    "#data\n",
    "zd7.loc[:,\"CreationDate\"] = zd7.CreationDate.str.slice(0, 4)\n",
    "#odpowiednia zmiana danych na new albo old\n",
    "zd7.loc[:,'CreationDate'] = np.where((zd7['CreationDate']=='2017')|(zd7[\"CreationDate\"]=='2016'), 'new', 'old')\n",
    "#zliczenie danych\n",
    "zd7 = zd7.groupby([\"PostId\",\"CreationDate\"]).size().reset_index()\n",
    "#nowe nazwy kolumn\n",
    "zd7.columns = [\"PostId\",\"VoteDate\",\"Total\"]\n",
    "#odpowiednie zastapienie danych\n",
    "zd7[\"NewVotes\"] = np.where(zd7[\"VoteDate\"]==\"new\",zd7[\"Total\"],0)\n",
    "zd7[\"OldVotes\"] = np.where(zd7[\"VoteDate\"]==\"old\",zd7[\"Total\"],0)\n",
    "#pogrupowanie po PostId\n",
    "zd7 = zd7.groupby(\"PostId\").agg({\"Total\":np.sum,\"NewVotes\":np.max,\"OldVotes\":np.max}).reset_index()\n",
    "#wybor tego gdzie NewVotes==0\n",
    "zd7 = zd7.query(\"NewVotes==0\").reset_index(drop=True)\n",
    "pos = Posts.query(\"PostTypeId==1\")\n",
    "#merge odpowiednich postow z tym co mialem wczesniej\n",
    "wynik = pd.merge(zd7,pos,left_on=\"PostId\",right_on=\"Id\")\n",
    "#posortowanie wartosci\n",
    "wynik.sort_values(by=[\"OldVotes\",\"PostId\"],ascending=[False,True],inplace=True)\n",
    "#wybranie odpowiednich kolumn\n",
    "wynik = wynik.loc[:,lambda wynik:[\"Title\",\"OldVotes\"]]\n",
    "#ostateczne sortowanie\n",
    "wynik.sort_values(by=\"OldVotes\",ascending=False,inplace=True)\n",
    "wynik = wynik.head(10).reset_index(drop=True)\n",
    "wynik.equals(pd7)\n"
   ]
  }
 ],
 "metadata": {
  "kernelspec": {
   "display_name": "Python 3",
   "language": "python",
   "name": "python3"
  },
  "language_info": {
   "codemirror_mode": {
    "name": "ipython",
    "version": 3
   },
   "file_extension": ".py",
   "mimetype": "text/x-python",
   "name": "python",
   "nbconvert_exporter": "python",
   "pygments_lexer": "ipython3",
   "version": "3.7.1"
  }
 },
 "nbformat": 4,
 "nbformat_minor": 2
}
