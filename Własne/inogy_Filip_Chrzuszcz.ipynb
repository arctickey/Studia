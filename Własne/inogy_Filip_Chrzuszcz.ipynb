{
 "cells": [
  {
   "cell_type": "code",
   "execution_count": 730,
   "metadata": {},
   "outputs": [],
   "source": [
    "import pandas as pd\n",
    "import numpy as np\n",
    "import seaborn as sns\n",
    "from scipy.stats import skew,boxcox\n",
    "import matplotlib.pyplot as plt\n",
    "from category_encoders import TargetEncoder\n",
    "from sklearn.preprocessing import StandardScaler\n",
    "from sklearn.linear_model import LogisticRegression\n",
    "from sklearn.model_selection import cross_validate,KFold,cross_val_score,cross_val_predict\n",
    "from sklearn.svm import SVC\n",
    "import xgboost as xgb\n",
    "from bayes_opt import BayesianOptimization\n",
    "from sklearn.metrics import plot_confusion_matrix,classification_report,confusion_matrix"
   ]
  },
  {
   "cell_type": "markdown",
   "metadata": {},
   "source": [
    "# Załadownie danych"
   ]
  },
  {
   "cell_type": "code",
   "execution_count": 676,
   "metadata": {},
   "outputs": [],
   "source": [
    "X_train = pd.read_csv('./train.csv',sep=';')\n",
    "y_train = X_train['Bought_Product']\n",
    "X_test = pd.read_csv('./test.csv',sep=';')\n",
    "X_test_id = X_test.Id"
   ]
  },
  {
   "cell_type": "markdown",
   "metadata": {},
   "source": [
    "## Podstawowe przekstałcenia"
   ]
  },
  {
   "cell_type": "code",
   "execution_count": 677,
   "metadata": {},
   "outputs": [],
   "source": [
    "X_train.Sex = X_train.Sex.map({'M':0,'F':1})\n",
    "X_test.Sex = X_test.Sex.map({'M':0,'F':1})\n",
    "X_train.drop(['Id'],inplace=True,axis=1)\n",
    "X_test.drop(['Id'],inplace=True,axis=1)"
   ]
  },
  {
   "cell_type": "markdown",
   "metadata": {},
   "source": [
    "# Podstawowe informacje"
   ]
  },
  {
   "cell_type": "markdown",
   "metadata": {},
   "source": [
    "Przyjrzyjmy się podstawowym statystykom zbioru treningowego oraz testowego"
   ]
  },
  {
   "cell_type": "code",
   "execution_count": 678,
   "metadata": {},
   "outputs": [
    {
     "data": {
      "text/html": [
       "<div>\n",
       "<style scoped>\n",
       "    .dataframe tbody tr th:only-of-type {\n",
       "        vertical-align: middle;\n",
       "    }\n",
       "\n",
       "    .dataframe tbody tr th {\n",
       "        vertical-align: top;\n",
       "    }\n",
       "\n",
       "    .dataframe thead th {\n",
       "        text-align: right;\n",
       "    }\n",
       "</style>\n",
       "<table border=\"1\" class=\"dataframe\">\n",
       "  <thead>\n",
       "    <tr style=\"text-align: right;\">\n",
       "      <th></th>\n",
       "      <th>Bought_Product</th>\n",
       "      <th>Market_Segment</th>\n",
       "      <th>Online_Account</th>\n",
       "      <th>EnergyTariff</th>\n",
       "      <th>Sex</th>\n",
       "      <th>Age</th>\n",
       "      <th>Non_Energy_Product</th>\n",
       "      <th>How_many_other_contracts</th>\n",
       "      <th>Billing_Amount</th>\n",
       "      <th>District</th>\n",
       "    </tr>\n",
       "  </thead>\n",
       "  <tbody>\n",
       "    <tr>\n",
       "      <th>0</th>\n",
       "      <td>0</td>\n",
       "      <td>3</td>\n",
       "      <td>0.0</td>\n",
       "      <td>G12</td>\n",
       "      <td>0</td>\n",
       "      <td>22.0</td>\n",
       "      <td>0</td>\n",
       "      <td>0</td>\n",
       "      <td>9.0000</td>\n",
       "      <td>DistrictA</td>\n",
       "    </tr>\n",
       "    <tr>\n",
       "      <th>1</th>\n",
       "      <td>0</td>\n",
       "      <td>2</td>\n",
       "      <td>0.0</td>\n",
       "      <td>C12</td>\n",
       "      <td>0</td>\n",
       "      <td>29.0</td>\n",
       "      <td>1</td>\n",
       "      <td>0</td>\n",
       "      <td>27.7208</td>\n",
       "      <td>DistrictA</td>\n",
       "    </tr>\n",
       "    <tr>\n",
       "      <th>2</th>\n",
       "      <td>0</td>\n",
       "      <td>3</td>\n",
       "      <td>0.0</td>\n",
       "      <td>G12</td>\n",
       "      <td>0</td>\n",
       "      <td>18.0</td>\n",
       "      <td>0</td>\n",
       "      <td>0</td>\n",
       "      <td>7.7958</td>\n",
       "      <td>DistrictD</td>\n",
       "    </tr>\n",
       "    <tr>\n",
       "      <th>3</th>\n",
       "      <td>0</td>\n",
       "      <td>3</td>\n",
       "      <td>1.0</td>\n",
       "      <td>G12</td>\n",
       "      <td>0</td>\n",
       "      <td>40.5</td>\n",
       "      <td>0</td>\n",
       "      <td>0</td>\n",
       "      <td>7.7500</td>\n",
       "      <td>DistrictD</td>\n",
       "    </tr>\n",
       "    <tr>\n",
       "      <th>4</th>\n",
       "      <td>0</td>\n",
       "      <td>3</td>\n",
       "      <td>1.0</td>\n",
       "      <td>G12</td>\n",
       "      <td>0</td>\n",
       "      <td>22.0</td>\n",
       "      <td>0</td>\n",
       "      <td>0</td>\n",
       "      <td>8.0500</td>\n",
       "      <td>DistrictA</td>\n",
       "    </tr>\n",
       "  </tbody>\n",
       "</table>\n",
       "</div>"
      ],
      "text/plain": [
       "   Bought_Product  Market_Segment  Online_Account EnergyTariff  Sex   Age  \\\n",
       "0               0               3             0.0          G12    0  22.0   \n",
       "1               0               2             0.0          C12    0  29.0   \n",
       "2               0               3             0.0          G12    0  18.0   \n",
       "3               0               3             1.0          G12    0  40.5   \n",
       "4               0               3             1.0          G12    0  22.0   \n",
       "\n",
       "   Non_Energy_Product  How_many_other_contracts  Billing_Amount   District  \n",
       "0                   0                         0          9.0000  DistrictA  \n",
       "1                   1                         0         27.7208  DistrictA  \n",
       "2                   0                         0          7.7958  DistrictD  \n",
       "3                   0                         0          7.7500  DistrictD  \n",
       "4                   0                         0          8.0500  DistrictA  "
      ]
     },
     "execution_count": 678,
     "metadata": {},
     "output_type": "execute_result"
    }
   ],
   "source": [
    "X_train.head()"
   ]
  },
  {
   "cell_type": "code",
   "execution_count": 679,
   "metadata": {},
   "outputs": [
    {
     "name": "stdout",
     "output_type": "stream",
     "text": [
      "<class 'pandas.core.frame.DataFrame'>\n",
      "RangeIndex: 626 entries, 0 to 625\n",
      "Data columns (total 10 columns):\n",
      " #   Column                    Non-Null Count  Dtype  \n",
      "---  ------                    --------------  -----  \n",
      " 0   Bought_Product            626 non-null    int64  \n",
      " 1   Market_Segment            626 non-null    int64  \n",
      " 2   Online_Account            367 non-null    float64\n",
      " 3   EnergyTariff              611 non-null    object \n",
      " 4   Sex                       626 non-null    int64  \n",
      " 5   Age                       616 non-null    float64\n",
      " 6   Non_Energy_Product        626 non-null    int64  \n",
      " 7   How_many_other_contracts  626 non-null    int64  \n",
      " 8   Billing_Amount            618 non-null    float64\n",
      " 9   District                  607 non-null    object \n",
      "dtypes: float64(3), int64(5), object(2)\n",
      "memory usage: 49.0+ KB\n"
     ]
    }
   ],
   "source": [
    "X_train.info()"
   ]
  },
  {
   "cell_type": "code",
   "execution_count": 680,
   "metadata": {},
   "outputs": [
    {
     "data": {
      "text/html": [
       "<div>\n",
       "<style scoped>\n",
       "    .dataframe tbody tr th:only-of-type {\n",
       "        vertical-align: middle;\n",
       "    }\n",
       "\n",
       "    .dataframe tbody tr th {\n",
       "        vertical-align: top;\n",
       "    }\n",
       "\n",
       "    .dataframe thead th {\n",
       "        text-align: right;\n",
       "    }\n",
       "</style>\n",
       "<table border=\"1\" class=\"dataframe\">\n",
       "  <thead>\n",
       "    <tr style=\"text-align: right;\">\n",
       "      <th></th>\n",
       "      <th>Bought_Product</th>\n",
       "      <th>Market_Segment</th>\n",
       "      <th>Online_Account</th>\n",
       "      <th>Sex</th>\n",
       "      <th>Age</th>\n",
       "      <th>Non_Energy_Product</th>\n",
       "      <th>How_many_other_contracts</th>\n",
       "      <th>Billing_Amount</th>\n",
       "    </tr>\n",
       "  </thead>\n",
       "  <tbody>\n",
       "    <tr>\n",
       "      <th>count</th>\n",
       "      <td>626.000000</td>\n",
       "      <td>626.000000</td>\n",
       "      <td>367.000000</td>\n",
       "      <td>626.000000</td>\n",
       "      <td>616.000000</td>\n",
       "      <td>626.000000</td>\n",
       "      <td>626.000000</td>\n",
       "      <td>618.000000</td>\n",
       "    </tr>\n",
       "    <tr>\n",
       "      <th>mean</th>\n",
       "      <td>0.383387</td>\n",
       "      <td>2.313099</td>\n",
       "      <td>0.493188</td>\n",
       "      <td>0.351438</td>\n",
       "      <td>29.783003</td>\n",
       "      <td>0.496805</td>\n",
       "      <td>0.364217</td>\n",
       "      <td>32.987291</td>\n",
       "    </tr>\n",
       "    <tr>\n",
       "      <th>std</th>\n",
       "      <td>0.486600</td>\n",
       "      <td>0.822321</td>\n",
       "      <td>0.500636</td>\n",
       "      <td>0.477801</td>\n",
       "      <td>14.943791</td>\n",
       "      <td>1.007566</td>\n",
       "      <td>0.782773</td>\n",
       "      <td>52.234536</td>\n",
       "    </tr>\n",
       "    <tr>\n",
       "      <th>min</th>\n",
       "      <td>0.000000</td>\n",
       "      <td>1.000000</td>\n",
       "      <td>0.000000</td>\n",
       "      <td>0.000000</td>\n",
       "      <td>0.670000</td>\n",
       "      <td>0.000000</td>\n",
       "      <td>0.000000</td>\n",
       "      <td>0.000000</td>\n",
       "    </tr>\n",
       "    <tr>\n",
       "      <th>25%</th>\n",
       "      <td>0.000000</td>\n",
       "      <td>2.000000</td>\n",
       "      <td>0.000000</td>\n",
       "      <td>0.000000</td>\n",
       "      <td>21.000000</td>\n",
       "      <td>0.000000</td>\n",
       "      <td>0.000000</td>\n",
       "      <td>7.903100</td>\n",
       "    </tr>\n",
       "    <tr>\n",
       "      <th>50%</th>\n",
       "      <td>0.000000</td>\n",
       "      <td>3.000000</td>\n",
       "      <td>0.000000</td>\n",
       "      <td>0.000000</td>\n",
       "      <td>28.000000</td>\n",
       "      <td>0.000000</td>\n",
       "      <td>0.000000</td>\n",
       "      <td>14.254150</td>\n",
       "    </tr>\n",
       "    <tr>\n",
       "      <th>75%</th>\n",
       "      <td>1.000000</td>\n",
       "      <td>3.000000</td>\n",
       "      <td>1.000000</td>\n",
       "      <td>1.000000</td>\n",
       "      <td>38.000000</td>\n",
       "      <td>1.000000</td>\n",
       "      <td>0.000000</td>\n",
       "      <td>30.923950</td>\n",
       "    </tr>\n",
       "    <tr>\n",
       "      <th>max</th>\n",
       "      <td>1.000000</td>\n",
       "      <td>3.000000</td>\n",
       "      <td>1.000000</td>\n",
       "      <td>1.000000</td>\n",
       "      <td>112.000000</td>\n",
       "      <td>8.000000</td>\n",
       "      <td>5.000000</td>\n",
       "      <td>512.329200</td>\n",
       "    </tr>\n",
       "  </tbody>\n",
       "</table>\n",
       "</div>"
      ],
      "text/plain": [
       "       Bought_Product  Market_Segment  Online_Account         Sex         Age  \\\n",
       "count      626.000000      626.000000      367.000000  626.000000  616.000000   \n",
       "mean         0.383387        2.313099        0.493188    0.351438   29.783003   \n",
       "std          0.486600        0.822321        0.500636    0.477801   14.943791   \n",
       "min          0.000000        1.000000        0.000000    0.000000    0.670000   \n",
       "25%          0.000000        2.000000        0.000000    0.000000   21.000000   \n",
       "50%          0.000000        3.000000        0.000000    0.000000   28.000000   \n",
       "75%          1.000000        3.000000        1.000000    1.000000   38.000000   \n",
       "max          1.000000        3.000000        1.000000    1.000000  112.000000   \n",
       "\n",
       "       Non_Energy_Product  How_many_other_contracts  Billing_Amount  \n",
       "count          626.000000                626.000000      618.000000  \n",
       "mean             0.496805                  0.364217       32.987291  \n",
       "std              1.007566                  0.782773       52.234536  \n",
       "min              0.000000                  0.000000        0.000000  \n",
       "25%              0.000000                  0.000000        7.903100  \n",
       "50%              0.000000                  0.000000       14.254150  \n",
       "75%              1.000000                  0.000000       30.923950  \n",
       "max              8.000000                  5.000000      512.329200  "
      ]
     },
     "execution_count": 680,
     "metadata": {},
     "output_type": "execute_result"
    }
   ],
   "source": [
    "X_train.describe()"
   ]
  },
  {
   "cell_type": "code",
   "execution_count": 681,
   "metadata": {},
   "outputs": [
    {
     "name": "stdout",
     "output_type": "stream",
     "text": [
      "<class 'pandas.core.frame.DataFrame'>\n",
      "RangeIndex: 261 entries, 0 to 260\n",
      "Data columns (total 9 columns):\n",
      " #   Column                    Non-Null Count  Dtype  \n",
      "---  ------                    --------------  -----  \n",
      " 0   Market_Segment            261 non-null    int64  \n",
      " 1   Online_Account            157 non-null    float64\n",
      " 2   EnergyTariff              255 non-null    object \n",
      " 3   Sex                       261 non-null    int64  \n",
      " 4   Age                       257 non-null    float64\n",
      " 5   Non_Energy_Product        261 non-null    int64  \n",
      " 6   How_many_other_contracts  261 non-null    int64  \n",
      " 7   Billing_Amount            261 non-null    float64\n",
      " 8   District                  246 non-null    object \n",
      "dtypes: float64(3), int64(4), object(2)\n",
      "memory usage: 18.5+ KB\n"
     ]
    }
   ],
   "source": [
    "X_test.info()"
   ]
  },
  {
   "cell_type": "code",
   "execution_count": 682,
   "metadata": {},
   "outputs": [
    {
     "data": {
      "text/html": [
       "<div>\n",
       "<style scoped>\n",
       "    .dataframe tbody tr th:only-of-type {\n",
       "        vertical-align: middle;\n",
       "    }\n",
       "\n",
       "    .dataframe tbody tr th {\n",
       "        vertical-align: top;\n",
       "    }\n",
       "\n",
       "    .dataframe thead th {\n",
       "        text-align: right;\n",
       "    }\n",
       "</style>\n",
       "<table border=\"1\" class=\"dataframe\">\n",
       "  <thead>\n",
       "    <tr style=\"text-align: right;\">\n",
       "      <th></th>\n",
       "      <th>Market_Segment</th>\n",
       "      <th>Online_Account</th>\n",
       "      <th>Sex</th>\n",
       "      <th>Age</th>\n",
       "      <th>Non_Energy_Product</th>\n",
       "      <th>How_many_other_contracts</th>\n",
       "      <th>Billing_Amount</th>\n",
       "    </tr>\n",
       "  </thead>\n",
       "  <tbody>\n",
       "    <tr>\n",
       "      <th>count</th>\n",
       "      <td>261.000000</td>\n",
       "      <td>157.000000</td>\n",
       "      <td>261.000000</td>\n",
       "      <td>257.000000</td>\n",
       "      <td>261.000000</td>\n",
       "      <td>261.000000</td>\n",
       "      <td>261.000000</td>\n",
       "    </tr>\n",
       "    <tr>\n",
       "      <th>mean</th>\n",
       "      <td>2.287356</td>\n",
       "      <td>0.439490</td>\n",
       "      <td>0.360153</td>\n",
       "      <td>29.680311</td>\n",
       "      <td>0.593870</td>\n",
       "      <td>0.429119</td>\n",
       "      <td>30.470421</td>\n",
       "    </tr>\n",
       "    <tr>\n",
       "      <th>std</th>\n",
       "      <td>0.871445</td>\n",
       "      <td>0.497913</td>\n",
       "      <td>0.480967</td>\n",
       "      <td>15.490308</td>\n",
       "      <td>1.308185</td>\n",
       "      <td>0.863665</td>\n",
       "      <td>44.339654</td>\n",
       "    </tr>\n",
       "    <tr>\n",
       "      <th>min</th>\n",
       "      <td>1.000000</td>\n",
       "      <td>0.000000</td>\n",
       "      <td>0.000000</td>\n",
       "      <td>0.420000</td>\n",
       "      <td>0.000000</td>\n",
       "      <td>0.000000</td>\n",
       "      <td>0.000000</td>\n",
       "    </tr>\n",
       "    <tr>\n",
       "      <th>25%</th>\n",
       "      <td>1.000000</td>\n",
       "      <td>0.000000</td>\n",
       "      <td>0.000000</td>\n",
       "      <td>20.000000</td>\n",
       "      <td>0.000000</td>\n",
       "      <td>0.000000</td>\n",
       "      <td>7.900000</td>\n",
       "    </tr>\n",
       "    <tr>\n",
       "      <th>50%</th>\n",
       "      <td>3.000000</td>\n",
       "      <td>0.000000</td>\n",
       "      <td>0.000000</td>\n",
       "      <td>28.000000</td>\n",
       "      <td>0.000000</td>\n",
       "      <td>0.000000</td>\n",
       "      <td>15.000000</td>\n",
       "    </tr>\n",
       "    <tr>\n",
       "      <th>75%</th>\n",
       "      <td>3.000000</td>\n",
       "      <td>1.000000</td>\n",
       "      <td>1.000000</td>\n",
       "      <td>39.000000</td>\n",
       "      <td>1.000000</td>\n",
       "      <td>1.000000</td>\n",
       "      <td>31.390000</td>\n",
       "    </tr>\n",
       "    <tr>\n",
       "      <th>max</th>\n",
       "      <td>3.000000</td>\n",
       "      <td>1.000000</td>\n",
       "      <td>1.000000</td>\n",
       "      <td>114.000000</td>\n",
       "      <td>8.000000</td>\n",
       "      <td>6.000000</td>\n",
       "      <td>512.330000</td>\n",
       "    </tr>\n",
       "  </tbody>\n",
       "</table>\n",
       "</div>"
      ],
      "text/plain": [
       "       Market_Segment  Online_Account         Sex         Age  \\\n",
       "count      261.000000      157.000000  261.000000  257.000000   \n",
       "mean         2.287356        0.439490    0.360153   29.680311   \n",
       "std          0.871445        0.497913    0.480967   15.490308   \n",
       "min          1.000000        0.000000    0.000000    0.420000   \n",
       "25%          1.000000        0.000000    0.000000   20.000000   \n",
       "50%          3.000000        0.000000    0.000000   28.000000   \n",
       "75%          3.000000        1.000000    1.000000   39.000000   \n",
       "max          3.000000        1.000000    1.000000  114.000000   \n",
       "\n",
       "       Non_Energy_Product  How_many_other_contracts  Billing_Amount  \n",
       "count          261.000000                261.000000      261.000000  \n",
       "mean             0.593870                  0.429119       30.470421  \n",
       "std              1.308185                  0.863665       44.339654  \n",
       "min              0.000000                  0.000000        0.000000  \n",
       "25%              0.000000                  0.000000        7.900000  \n",
       "50%              0.000000                  0.000000       15.000000  \n",
       "75%              1.000000                  1.000000       31.390000  \n",
       "max              8.000000                  6.000000      512.330000  "
      ]
     },
     "execution_count": 682,
     "metadata": {},
     "output_type": "execute_result"
    }
   ],
   "source": [
    "X_test.describe()"
   ]
  },
  {
   "cell_type": "markdown",
   "metadata": {},
   "source": [
    "Widać iż zarówno dane treningowe jak i testowe mają braki, ktore trzeba będzie uzupełnić. Dodatkowo widocznym jest iż mamy do czynienia zarówno ze zmiennymi numerycznymi typu ciągłego i jaki dyskretnego, a także stringami, które trzeba będzie zamienić na liczby."
   ]
  },
  {
   "cell_type": "markdown",
   "metadata": {},
   "source": [
    "# EDA"
   ]
  },
  {
   "cell_type": "markdown",
   "metadata": {},
   "source": [
    "Przed przystąpieniem do modelowania dobrze jest przyjrzeć się danym na różnego roszaju wykresach, tak aby zobaczyć możliwe zależności panujące między nimi."
   ]
  },
  {
   "cell_type": "code",
   "execution_count": 683,
   "metadata": {},
   "outputs": [],
   "source": [
    "def plot_var(col, variable):\n",
    "    plot = sns.distplot(col, hist = True, kde = True)\n",
    "    plot.set_title(\"Variable distribution: \" + variable)\n",
    "\n",
    "def plot_col(col, var):\n",
    "    plot = sns.countplot(col)\n",
    "    plot.set_title(\"Variable distribution: \" + var)\n",
    "    "
   ]
  },
  {
   "cell_type": "markdown",
   "metadata": {},
   "source": [
    "## Zmienna celu"
   ]
  },
  {
   "cell_type": "code",
   "execution_count": 684,
   "metadata": {},
   "outputs": [
    {
     "data": {
      "image/png": "[encoded data removed]",
      "text/plain": [
       "<Figure size 432x288 with 1 Axes>"
      ]
     },
     "metadata": {
      "needs_background": "light"
     },
     "output_type": "display_data"
    }
   ],
   "source": [
    "plot_col(X_train.Bought_Product,'Bought_Product')"
   ]
  },
  {
   "cell_type": "markdown",
   "metadata": {},
   "source": [
    "Rozkład zmiennej celu jest delikatnie niezbalansowany, aczkolwiek różnica między obiema wartościami nie jest duża."
   ]
  },
  {
   "cell_type": "markdown",
   "metadata": {},
   "source": [
    "## Zmienne ciągłe"
   ]
  },
  {
   "cell_type": "code",
   "execution_count": 685,
   "metadata": {},
   "outputs": [
    {
     "data": {
      "image/png": "[encoded data removed]",
      "text/plain": [
       "<Figure size 432x288 with 1 Axes>"
      ]
     },
     "metadata": {
      "needs_background": "light"
     },
     "output_type": "display_data"
    }
   ],
   "source": [
    "plot_var(X_train.Age,'age')"
   ]
  },
  {
   "cell_type": "markdown",
   "metadata": {},
   "source": [
    "Rozkład wieku jest lekko skośny, przeważają młodzi klienci."
   ]
  },
  {
   "cell_type": "code",
   "execution_count": 686,
   "metadata": {},
   "outputs": [
    {
     "data": {
      "image/png": "[encoded data removed]",
      "text/plain": [
       "<Figure size 432x288 with 1 Axes>"
      ]
     },
     "metadata": {
      "needs_background": "light"
     },
     "output_type": "display_data"
    }
   ],
   "source": [
    "plot_var(X_train.Billing_Amount,'Billing_Amount')"
   ]
  },
  {
   "cell_type": "markdown",
   "metadata": {},
   "source": [
    "Rozkład tej kolumny jest bardzo skośny, z większością wartości równą 0. Być może dobrze będzie przetransformować ją, tak aby ta kolumna była mniej skośna."
   ]
  },
  {
   "cell_type": "markdown",
   "metadata": {},
   "source": [
    "## Zmienne dyskretne"
   ]
  },
  {
   "cell_type": "code",
   "execution_count": 687,
   "metadata": {},
   "outputs": [
    {
     "data": {
      "image/png": "[encoded data removed]",
      "text/plain": [
       "<Figure size 432x288 with 1 Axes>"
      ]
     },
     "metadata": {
      "needs_background": "light"
     },
     "output_type": "display_data"
    }
   ],
   "source": [
    "plot_col(X_train.Sex,'Sex')"
   ]
  },
  {
   "cell_type": "markdown",
   "metadata": {},
   "source": [
    "Jest delikatna przewaga mężczyzn."
   ]
  },
  {
   "cell_type": "code",
   "execution_count": 688,
   "metadata": {},
   "outputs": [
    {
     "data": {
      "image/png": "[encoded data removed]",
      "text/plain": [
       "<Figure size 432x288 with 1 Axes>"
      ]
     },
     "metadata": {
      "needs_background": "light"
     },
     "output_type": "display_data"
    }
   ],
   "source": [
    "plot_col(X_train.Market_Segment,'Market_Segment')"
   ]
  },
  {
   "cell_type": "markdown",
   "metadata": {},
   "source": [
    "Znacząco przeważają klienci należący do 3 segementu."
   ]
  },
  {
   "cell_type": "code",
   "execution_count": 689,
   "metadata": {},
   "outputs": [
    {
     "data": {
      "image/png": "[encoded data removed]",
      "text/plain": [
       "<Figure size 432x288 with 1 Axes>"
      ]
     },
     "metadata": {
      "needs_background": "light"
     },
     "output_type": "display_data"
    }
   ],
   "source": [
    "plot_col(X_train.Online_Account, 'Online_Account')"
   ]
  },
  {
   "cell_type": "markdown",
   "metadata": {},
   "source": [
    "Rozkład posiadania konta online jest praktycznie idealnie pół na pół."
   ]
  },
  {
   "cell_type": "code",
   "execution_count": 690,
   "metadata": {},
   "outputs": [
    {
     "data": {
      "image/png": "[encoded data removed]",
      "text/plain": [
       "<Figure size 432x288 with 1 Axes>"
      ]
     },
     "metadata": {
      "needs_background": "light"
     },
     "output_type": "display_data"
    }
   ],
   "source": [
    "plot_col(X_train.EnergyTariff,'Energy_Tariff')"
   ]
  },
  {
   "cell_type": "markdown",
   "metadata": {},
   "source": [
    "Mamy obecne 3 wartości w tej kolumnie, przy czym wartości 'G11' stanowią znikomy procent całości"
   ]
  },
  {
   "cell_type": "code",
   "execution_count": 691,
   "metadata": {},
   "outputs": [
    {
     "data": {
      "image/png": "[encoded data removed]",
      "text/plain": [
       "<Figure size 432x288 with 1 Axes>"
      ]
     },
     "metadata": {
      "needs_background": "light"
     },
     "output_type": "display_data"
    }
   ],
   "source": [
    "plot_col(X_train.District,'District')"
   ]
  },
  {
   "cell_type": "markdown",
   "metadata": {},
   "source": [
    "Mamy do czynienia z 5 różnymi dystryktami, ich rozkład jest umiarkowanie równomierny."
   ]
  },
  {
   "cell_type": "code",
   "execution_count": 692,
   "metadata": {},
   "outputs": [
    {
     "data": {
      "image/png": "[encoded data removed]",
      "text/plain": [
       "<Figure size 432x288 with 1 Axes>"
      ]
     },
     "metadata": {
      "needs_background": "light"
     },
     "output_type": "display_data"
    }
   ],
   "source": [
    "plot_col(X_train.How_many_other_contracts,'Other Contracts')"
   ]
  },
  {
   "cell_type": "markdown",
   "metadata": {},
   "source": [
    "Rozkład kolumny innych kontraktów jest mocno nierównomierny, przeważają klienci bez dodatkowych kontraktów."
   ]
  },
  {
   "cell_type": "markdown",
   "metadata": {},
   "source": [
    "# Wpływ poszczególnych zmiennych na zmienną celu"
   ]
  },
  {
   "cell_type": "markdown",
   "metadata": {},
   "source": [
    "Z racji na sporą ilość kolumn dyskretnych łatwo będzie spojrzeć na to jak rozkładają się poszczególne grupy w danych kolumnach względem naszej zmiennej celu."
   ]
  },
  {
   "cell_type": "code",
   "execution_count": 693,
   "metadata": {},
   "outputs": [],
   "source": [
    "def plot_targ(col, var):\n",
    "    plot = sns.countplot(col,hue=X_train.Bought_Product)\n",
    "    plot.set_title(\"Variable distribution: \" + var)\n"
   ]
  },
  {
   "cell_type": "code",
   "execution_count": 694,
   "metadata": {},
   "outputs": [
    {
     "data": {
      "image/png": "[encoded data removed]",
      "text/plain": [
       "<Figure size 432x288 with 1 Axes>"
      ]
     },
     "metadata": {
      "needs_background": "light"
     },
     "output_type": "display_data"
    }
   ],
   "source": [
    "plot_targ(X_train.Sex,'Sex')"
   ]
  },
  {
   "cell_type": "markdown",
   "metadata": {},
   "source": [
    "Widać bardzo dużą zależność pomiędzy tym czy produkt został kupiony, a płcią."
   ]
  },
  {
   "cell_type": "code",
   "execution_count": 695,
   "metadata": {},
   "outputs": [
    {
     "data": {
      "image/png": "[encoded data removed]",
      "text/plain": [
       "<Figure size 432x288 with 1 Axes>"
      ]
     },
     "metadata": {
      "needs_background": "light"
     },
     "output_type": "display_data"
    }
   ],
   "source": [
    "plot_targ(X_train.Market_Segment,'Market_Segment')"
   ]
  },
  {
   "cell_type": "code",
   "execution_count": 696,
   "metadata": {},
   "outputs": [
    {
     "data": {
      "image/png": "[encoded data removed]",
      "text/plain": [
       "<Figure size 432x288 with 1 Axes>"
      ]
     },
     "metadata": {
      "needs_background": "light"
     },
     "output_type": "display_data"
    }
   ],
   "source": [
    "plot_targ(X_train.Online_Account, 'Online_Account')"
   ]
  },
  {
   "cell_type": "markdown",
   "metadata": {},
   "source": [
    "Widać tutaj bardzo ciekawą zależnośc, a mianowicie klienci z kontem online są dużo bardziej chętni do kupowania produktów, niż ci któ©zy go nie mają."
   ]
  },
  {
   "cell_type": "code",
   "execution_count": 697,
   "metadata": {},
   "outputs": [
    {
     "data": {
      "image/png": "[encoded data removed]",
      "text/plain": [
       "<Figure size 432x288 with 1 Axes>"
      ]
     },
     "metadata": {
      "needs_background": "light"
     },
     "output_type": "display_data"
    }
   ],
   "source": [
    "plot_targ(X_train.EnergyTariff,'Energy_Tariff')"
   ]
  },
  {
   "cell_type": "markdown",
   "metadata": {},
   "source": [
    "Ten typ wykresu juz pozwala zaobserwować ciekawą zależność, a mianowicie klienci z grupą energii G12 są dużo mniej chętni do kupna produktu, niż ci z grupy C12."
   ]
  },
  {
   "cell_type": "code",
   "execution_count": 698,
   "metadata": {},
   "outputs": [
    {
     "data": {
      "image/png": "[encoded data removed]",
      "text/plain": [
       "<Figure size 432x288 with 1 Axes>"
      ]
     },
     "metadata": {
      "needs_background": "light"
     },
     "output_type": "display_data"
    }
   ],
   "source": [
    "plot_targ(X_train.District,'District')"
   ]
  },
  {
   "cell_type": "markdown",
   "metadata": {},
   "source": [
    "Analizując wizualnie ten wykres, to DystryktB oraz DystryktE wyróżniają się dość dużym procentem ludzi którzy kupili produkt."
   ]
  },
  {
   "cell_type": "markdown",
   "metadata": {},
   "source": [
    "## Zależności między danymi numerycznymi"
   ]
  },
  {
   "cell_type": "code",
   "execution_count": 699,
   "metadata": {},
   "outputs": [
    {
     "data": {
      "text/plain": [
       "<seaborn.axisgrid.PairGrid at 0x7fbac4cb8810>"
      ]
     },
     "execution_count": 699,
     "metadata": {},
     "output_type": "execute_result"
    },
    {
     "data": {
      "image/png": "[encoded data removed]",
      "text/plain": [
       "<Figure size 1440x1440 with 72 Axes>"
      ]
     },
     "metadata": {
      "needs_background": "light"
     },
     "output_type": "display_data"
    }
   ],
   "source": [
    "# Separate both dataframes into \n",
    "numeric_df = X_train.select_dtypes(exclude=\"object\")\n",
    "# categorical_df = df.select_dtypes(include=\"object\")\n",
    "\n",
    "def hide_current_axis(*args, **kwds):\n",
    "    plt.gca().set_visible(False)\n",
    "g = sns.pairplot(numeric_df)\n",
    "g.map_upper(hide_current_axis)"
   ]
  },
  {
   "cell_type": "code",
   "execution_count": 700,
   "metadata": {},
   "outputs": [
    {
     "data": {
      "image/png": "[encoded data removed]",
      "text/plain": [
       "<Figure size 432x288 with 2 Axes>"
      ]
     },
     "metadata": {
      "needs_background": "light"
     },
     "output_type": "display_data"
    }
   ],
   "source": [
    "cor_df = numeric_df.copy()\n",
    "#-1 means no contact before, calculating correlation with this variable it means NA\n",
    "corr_numeric = cor_df.corr()\n",
    "\n",
    "\n",
    "sns.heatmap(corr_numeric, cbar=True, cmap=\"RdBu_r\")\n",
    "plt.title(\"Correlation Matrix\", fontsize=16)\n",
    "plt.show()"
   ]
  },
  {
   "cell_type": "markdown",
   "metadata": {},
   "source": [
    "Widać spore skorelowanie między zmienną celu, a płcią, co sugeruje że ta zmienna ma bardzo dużą moc predykcyjną. Dosć mocno skorelowana ze zmienną celu jest również zmienna Market Segment. "
   ]
  },
  {
   "cell_type": "markdown",
   "metadata": {},
   "source": [
    "## Wnioski"
   ]
  },
  {
   "cell_type": "markdown",
   "metadata": {},
   "source": [
    "Większość kolumn ma dość prosty rozkład, kolumny dyskretne mają niewiele możliwych wartości. Sama zmienna celu jest delikatnie niezbalansowana. Mamy tylko 2 zmienne ciągłe: Age oraz BillingAmount, przy czym druga z nich jest mocno skośna. Odnośnie mocy predykcyjnej naszych kolumn, to interesujące wydają się kolumny: \n",
    "- Sex\n",
    "- MarketSegment\n",
    "- OnlineAccount\n",
    "\n",
    "Z procesu EDA można sprobówać wyciągać wnioski, iż fakt bycia kobietą oraz posiadanie konta online znacząco zwiększa szanse na to, iż klient dokona zakupu. Z drugiej strony fakt bycia w 3 grupie MarketSegment znacząco te szanse zmniejsza.\n",
    "Sprawdzimy w trakcie procesu modelowania czy moje przypuszczenia są prawdziwe. Jeśli chodzi o brakujące dane to  występują głownie w kolumnie OnlineAccount."
   ]
  },
  {
   "cell_type": "markdown",
   "metadata": {},
   "source": [
    "# Feature engineering"
   ]
  },
  {
   "cell_type": "markdown",
   "metadata": {},
   "source": [
    "Przed przystąpieniem do modelowania, należy odpowiednio przetransformować zbiór danych, tak aby algorytmy uczenia maszynowego były w stanie z nim pracować."
   ]
  },
  {
   "cell_type": "markdown",
   "metadata": {},
   "source": [
    "## Data imputing"
   ]
  },
  {
   "cell_type": "markdown",
   "metadata": {},
   "source": [
    "Na samym początku należy pozbyć się danych brakujących w obu zbiorach. Z etapu EDA wiemy iż głowne braki występuja w kolumnie Online Acount. Jednocześnie EDA ukazała iż ta kolumna zawiera dużo informacji na temat zmiennej celu. Dlatego moim zdaniem najlepszym rozwiązaniem tego problemu będzie utworzenie 3 kategorii 'NoData' która będzie informowała o braku danych w tej kolumnie."
   ]
  },
  {
   "cell_type": "code",
   "execution_count": 701,
   "metadata": {},
   "outputs": [],
   "source": [
    "X_train['Online_Account'].fillna('NoData',inplace=True)\n",
    "X_test['Online_Account'].fillna('NoData',inplace=True)"
   ]
  },
  {
   "cell_type": "markdown",
   "metadata": {},
   "source": [
    "Sprawdźmy czy dalej ta kolumna posiada dużą moc predykcyjną."
   ]
  },
  {
   "cell_type": "code",
   "execution_count": 702,
   "metadata": {},
   "outputs": [
    {
     "data": {
      "image/png": "[encoded data removed]",
      "text/plain": [
       "<Figure size 432x288 with 1 Axes>"
      ]
     },
     "metadata": {
      "needs_background": "light"
     },
     "output_type": "display_data"
    }
   ],
   "source": [
    "plot_targ(X_train.Online_Account, 'Online_Account')"
   ]
  },
  {
   "cell_type": "markdown",
   "metadata": {},
   "source": [
    "W dalszym ciągu wygląda to interesująco."
   ]
  },
  {
   "cell_type": "markdown",
   "metadata": {},
   "source": [
    "Pozostałe braki danych są marginalne, w każdej z kolumn jest ich stosunkowo mało, więc bez większych przeszkód mogę posłużyć się prostym algorytmem uzupełniania braków danych jakim bedzie najczęsciej wysteępująca wartość w kolumnie dla danych dyskretnych oraz średnia arytmetyczna dla danych ciągłych. "
   ]
  },
  {
   "cell_type": "code",
   "execution_count": 703,
   "metadata": {},
   "outputs": [
    {
     "name": "stdout",
     "output_type": "stream",
     "text": [
      "<class 'pandas.core.frame.DataFrame'>\n",
      "RangeIndex: 626 entries, 0 to 625\n",
      "Data columns (total 10 columns):\n",
      " #   Column                    Non-Null Count  Dtype  \n",
      "---  ------                    --------------  -----  \n",
      " 0   Bought_Product            626 non-null    int64  \n",
      " 1   Market_Segment            626 non-null    int64  \n",
      " 2   Online_Account            626 non-null    object \n",
      " 3   EnergyTariff              611 non-null    object \n",
      " 4   Sex                       626 non-null    int64  \n",
      " 5   Age                       616 non-null    float64\n",
      " 6   Non_Energy_Product        626 non-null    int64  \n",
      " 7   How_many_other_contracts  626 non-null    int64  \n",
      " 8   Billing_Amount            618 non-null    float64\n",
      " 9   District                  607 non-null    object \n",
      "dtypes: float64(2), int64(5), object(3)\n",
      "memory usage: 49.0+ KB\n"
     ]
    }
   ],
   "source": [
    "X_train.info()"
   ]
  },
  {
   "cell_type": "code",
   "execution_count": 704,
   "metadata": {},
   "outputs": [],
   "source": [
    "X_train['EnergyTariff'].fillna(X_train['EnergyTariff'].mode()[0],inplace=True)\n",
    "X_test['EnergyTariff'].fillna(X_train['EnergyTariff'].mode()[0],inplace=True)\n",
    "\n",
    "X_train['Age'].fillna(X_train['Age'].mean(),inplace=True)\n",
    "X_test['Age'].fillna(X_train['Age'].mean(),inplace=True)\n",
    "\n",
    "X_train['Billing_Amount'].fillna(X_train['Billing_Amount'].mean(),inplace=True)\n",
    "X_test['Billing_Amount'].fillna(X_train['Billing_Amount'].mean(),inplace=True)\n",
    "\n",
    "X_train['District'].fillna(X_train['District'].mode()[0],inplace=True)\n",
    "X_test['District'].fillna(X_train['District'].mode()[0],inplace=True)"
   ]
  },
  {
   "cell_type": "markdown",
   "metadata": {},
   "source": [
    "Wartości w zbiorze testowym uzupełniam statystykami ze zbioru treningowego, tak aby uniknąć wycieku danych."
   ]
  },
  {
   "cell_type": "code",
   "execution_count": 705,
   "metadata": {},
   "outputs": [
    {
     "data": {
      "text/plain": [
       "0"
      ]
     },
     "execution_count": 705,
     "metadata": {},
     "output_type": "execute_result"
    }
   ],
   "source": [
    "X_test.isnull().sum().sum() + X_train.isnull().sum().sum() "
   ]
  },
  {
   "cell_type": "markdown",
   "metadata": {},
   "source": [
    "Jak widać imputacja się powiodła."
   ]
  },
  {
   "cell_type": "markdown",
   "metadata": {},
   "source": [
    "## Skośność"
   ]
  },
  {
   "cell_type": "markdown",
   "metadata": {},
   "source": [
    "Jak wykazała EDA kolumna BillingAmount ma dość mocno skośny rozkład. Przed przystąpieniem do pracy z nią, dobrym pomysłem będzie zmniejszenie tego parametru."
   ]
  },
  {
   "cell_type": "code",
   "execution_count": 706,
   "metadata": {},
   "outputs": [
    {
     "data": {
      "text/plain": [
       "4.449398894501554"
      ]
     },
     "execution_count": 706,
     "metadata": {},
     "output_type": "execute_result"
    }
   ],
   "source": [
    "skew(X_train.Billing_Amount)"
   ]
  },
  {
   "cell_type": "code",
   "execution_count": 707,
   "metadata": {},
   "outputs": [
    {
     "data": {
      "text/plain": [
       "0.3476724645999522"
      ]
     },
     "execution_count": 707,
     "metadata": {},
     "output_type": "execute_result"
    }
   ],
   "source": [
    "X_train.Billing_Amount = np.log1p(X_train.Billing_Amount)\n",
    "X_test.Billing_Amount = np.log1p(X_test.Billing_Amount)\n",
    "skew(X_train.Billing_Amount)"
   ]
  },
  {
   "cell_type": "markdown",
   "metadata": {},
   "source": [
    "Zwykłe zlogarytmizowanie danych pomogło znacząco zmniejszyć skośność."
   ]
  },
  {
   "cell_type": "markdown",
   "metadata": {},
   "source": [
    "## Encoding"
   ]
  },
  {
   "cell_type": "markdown",
   "metadata": {},
   "source": [
    "Jako encodera użyję TargetEncodera. Działa on wykorzystując dostępne informacje o zmiennej celu, tak aby jak najlepiej zmieniać dane kategoryczne na numeryczne."
   ]
  },
  {
   "cell_type": "code",
   "execution_count": 708,
   "metadata": {},
   "outputs": [],
   "source": [
    "X_train.drop(['Bought_Product'],inplace=True,axis=1) #Pozbywam się zmiennej celu z danych treningowych\n",
    "encoder = TargetEncoder()\n",
    "X_train = encoder.fit_transform(X_train,y_train)\n",
    "X_test = encoder.transform(X_test)\n",
    "cols = X_train.columns"
   ]
  },
  {
   "cell_type": "code",
   "execution_count": 709,
   "metadata": {},
   "outputs": [
    {
     "name": "stdout",
     "output_type": "stream",
     "text": [
      "<class 'pandas.core.frame.DataFrame'>\n",
      "RangeIndex: 626 entries, 0 to 625\n",
      "Data columns (total 9 columns):\n",
      " #   Column                    Non-Null Count  Dtype  \n",
      "---  ------                    --------------  -----  \n",
      " 0   Market_Segment            626 non-null    int64  \n",
      " 1   Online_Account            626 non-null    float64\n",
      " 2   EnergyTariff              626 non-null    float64\n",
      " 3   Sex                       626 non-null    int64  \n",
      " 4   Age                       626 non-null    float64\n",
      " 5   Non_Energy_Product        626 non-null    int64  \n",
      " 6   How_many_other_contracts  626 non-null    int64  \n",
      " 7   Billing_Amount            626 non-null    float64\n",
      " 8   District                  626 non-null    float64\n",
      "dtypes: float64(5), int64(4)\n",
      "memory usage: 44.1 KB\n"
     ]
    }
   ],
   "source": [
    "X_train.info()"
   ]
  },
  {
   "cell_type": "code",
   "execution_count": 710,
   "metadata": {},
   "outputs": [
    {
     "name": "stdout",
     "output_type": "stream",
     "text": [
      "<class 'pandas.core.frame.DataFrame'>\n",
      "RangeIndex: 261 entries, 0 to 260\n",
      "Data columns (total 9 columns):\n",
      " #   Column                    Non-Null Count  Dtype  \n",
      "---  ------                    --------------  -----  \n",
      " 0   Market_Segment            261 non-null    int64  \n",
      " 1   Online_Account            261 non-null    float64\n",
      " 2   EnergyTariff              261 non-null    float64\n",
      " 3   Sex                       261 non-null    int64  \n",
      " 4   Age                       261 non-null    float64\n",
      " 5   Non_Energy_Product        261 non-null    int64  \n",
      " 6   How_many_other_contracts  261 non-null    int64  \n",
      " 7   Billing_Amount            261 non-null    float64\n",
      " 8   District                  261 non-null    float64\n",
      "dtypes: float64(5), int64(4)\n",
      "memory usage: 18.5 KB\n"
     ]
    }
   ],
   "source": [
    "X_test.info()"
   ]
  },
  {
   "cell_type": "markdown",
   "metadata": {},
   "source": [
    "Jak widać mamy już tylko dane numeryczne oraz nie mamy żadnych braków."
   ]
  },
  {
   "cell_type": "markdown",
   "metadata": {},
   "source": [
    "## Skalowanie"
   ]
  },
  {
   "cell_type": "markdown",
   "metadata": {},
   "source": [
    "Dla niektórych algorytmów ważne jest, aby dane im dostarczone były przeskalowane. Do tego zadania dobrze sprawdzi się StandardScaler."
   ]
  },
  {
   "cell_type": "code",
   "execution_count": 711,
   "metadata": {},
   "outputs": [],
   "source": [
    "scaler = StandardScaler()\n",
    "X_train = scaler.fit_transform(X_train)\n",
    "X_test = scaler.transform(X_test)"
   ]
  },
  {
   "cell_type": "markdown",
   "metadata": {},
   "source": [
    "# Modelowanie"
   ]
  },
  {
   "cell_type": "markdown",
   "metadata": {},
   "source": [
    "Finalnie po wszystkich przekstałeniach możemy przystąpić do modelowania danych."
   ]
  },
  {
   "cell_type": "markdown",
   "metadata": {},
   "source": [
    "Do modelowania użyję 3 algorytmów uczenia maszynowego:\n",
    "- Regresja logistyczna\n",
    "- Xgboost\n",
    "- SVM\n",
    "\n",
    "Użyję kroswalidacji, aby sprawdzić ich działanie, a dla najlepiej sprawującego się algorytmu dobiorę parametry poprzez BayesianOptimization. Jako miary będę używał accuracy, precision, recall oraz ROC AUC, ze szczególnym naciskiem na ostatnią miarę, jako dobrze sprawującą się w kontekście klasyfikacji binarnej."
   ]
  },
  {
   "cell_type": "markdown",
   "metadata": {},
   "source": [
    "## Regresja logistyczna"
   ]
  },
  {
   "cell_type": "code",
   "execution_count": 725,
   "metadata": {},
   "outputs": [
    {
     "data": {
      "text/html": [
       "<div>\n",
       "<style scoped>\n",
       "    .dataframe tbody tr th:only-of-type {\n",
       "        vertical-align: middle;\n",
       "    }\n",
       "\n",
       "    .dataframe tbody tr th {\n",
       "        vertical-align: top;\n",
       "    }\n",
       "\n",
       "    .dataframe thead th {\n",
       "        text-align: right;\n",
       "    }\n",
       "</style>\n",
       "<table border=\"1\" class=\"dataframe\">\n",
       "  <thead>\n",
       "    <tr style=\"text-align: right;\">\n",
       "      <th></th>\n",
       "      <th>Wyniki</th>\n",
       "    </tr>\n",
       "  </thead>\n",
       "  <tbody>\n",
       "    <tr>\n",
       "      <th>fit_time</th>\n",
       "      <td>0.009101</td>\n",
       "    </tr>\n",
       "    <tr>\n",
       "      <th>score_time</th>\n",
       "      <td>0.006522</td>\n",
       "    </tr>\n",
       "    <tr>\n",
       "      <th>test_precision</th>\n",
       "      <td>0.788115</td>\n",
       "    </tr>\n",
       "    <tr>\n",
       "      <th>test_recall</th>\n",
       "      <td>0.773166</td>\n",
       "    </tr>\n",
       "    <tr>\n",
       "      <th>test_accuracy</th>\n",
       "      <td>0.795554</td>\n",
       "    </tr>\n",
       "    <tr>\n",
       "      <th>test_auc</th>\n",
       "      <td>0.871435</td>\n",
       "    </tr>\n",
       "  </tbody>\n",
       "</table>\n",
       "</div>"
      ],
      "text/plain": [
       "                  Wyniki\n",
       "fit_time        0.009101\n",
       "score_time      0.006522\n",
       "test_precision  0.788115\n",
       "test_recall     0.773166\n",
       "test_accuracy   0.795554\n",
       "test_auc        0.871435"
      ]
     },
     "execution_count": 725,
     "metadata": {},
     "output_type": "execute_result"
    }
   ],
   "source": [
    "scoring = {'precision': 'precision_macro',\n",
    "           'recall': 'recall_macro',\n",
    "           'accuracy': 'accuracy',\n",
    "           'auc': 'roc_auc'}\n",
    "\n",
    "#Logistic regression\n",
    "kfold = KFold(n_splits=3, random_state=42, shuffle=True)\n",
    "logistic =  LogisticRegression(random_state=42)\n",
    "r_log = cross_validate(logistic,X_train,y_train,scoring=scoring, cv=kfold)\n",
    "vals = list(map(lambda x: np.mean(r_log[x]), r_log))\n",
    "log = pd.DataFrame(vals,index = r_log.keys())\n",
    "log.columns  = ['Wyniki']\n",
    "log"
   ]
  },
  {
   "cell_type": "markdown",
   "metadata": {},
   "source": [
    "## XGboost"
   ]
  },
  {
   "cell_type": "code",
   "execution_count": 713,
   "metadata": {},
   "outputs": [
    {
     "data": {
      "text/html": [
       "<div>\n",
       "<style scoped>\n",
       "    .dataframe tbody tr th:only-of-type {\n",
       "        vertical-align: middle;\n",
       "    }\n",
       "\n",
       "    .dataframe tbody tr th {\n",
       "        vertical-align: top;\n",
       "    }\n",
       "\n",
       "    .dataframe thead th {\n",
       "        text-align: right;\n",
       "    }\n",
       "</style>\n",
       "<table border=\"1\" class=\"dataframe\">\n",
       "  <thead>\n",
       "    <tr style=\"text-align: right;\">\n",
       "      <th></th>\n",
       "      <th>Wyniki</th>\n",
       "    </tr>\n",
       "  </thead>\n",
       "  <tbody>\n",
       "    <tr>\n",
       "      <th>fit_time</th>\n",
       "      <td>0.053462</td>\n",
       "    </tr>\n",
       "    <tr>\n",
       "      <th>score_time</th>\n",
       "      <td>0.009023</td>\n",
       "    </tr>\n",
       "    <tr>\n",
       "      <th>test_precision</th>\n",
       "      <td>0.834586</td>\n",
       "    </tr>\n",
       "    <tr>\n",
       "      <th>test_recall</th>\n",
       "      <td>0.812870</td>\n",
       "    </tr>\n",
       "    <tr>\n",
       "      <th>test_accuracy</th>\n",
       "      <td>0.835480</td>\n",
       "    </tr>\n",
       "    <tr>\n",
       "      <th>test_auc</th>\n",
       "      <td>0.889287</td>\n",
       "    </tr>\n",
       "  </tbody>\n",
       "</table>\n",
       "</div>"
      ],
      "text/plain": [
       "                  Wyniki\n",
       "fit_time        0.053462\n",
       "score_time      0.009023\n",
       "test_precision  0.834586\n",
       "test_recall     0.812870\n",
       "test_accuracy   0.835480\n",
       "test_auc        0.889287"
      ]
     },
     "execution_count": 713,
     "metadata": {},
     "output_type": "execute_result"
    }
   ],
   "source": [
    "xg = xgb.XGBClassifier(objective='binary:logistic',nthread=4,n_jobs=4)\n",
    "r_xgb = cross_validate(xg, X_train, y_train, cv=kfold, scoring=scoring)\n",
    "vals = list(map(lambda x: np.mean(r_xgb[x]), r_xgb))\n",
    "xgd = pd.DataFrame(vals,index = r_xgb.keys())\n",
    "xgd.columns  = ['Wyniki']\n",
    "xgd"
   ]
  },
  {
   "cell_type": "markdown",
   "metadata": {},
   "source": [
    "## SVM"
   ]
  },
  {
   "cell_type": "code",
   "execution_count": 714,
   "metadata": {},
   "outputs": [
    {
     "data": {
      "text/html": [
       "<div>\n",
       "<style scoped>\n",
       "    .dataframe tbody tr th:only-of-type {\n",
       "        vertical-align: middle;\n",
       "    }\n",
       "\n",
       "    .dataframe tbody tr th {\n",
       "        vertical-align: top;\n",
       "    }\n",
       "\n",
       "    .dataframe thead th {\n",
       "        text-align: right;\n",
       "    }\n",
       "</style>\n",
       "<table border=\"1\" class=\"dataframe\">\n",
       "  <thead>\n",
       "    <tr style=\"text-align: right;\">\n",
       "      <th></th>\n",
       "      <th>Wyniki</th>\n",
       "    </tr>\n",
       "  </thead>\n",
       "  <tbody>\n",
       "    <tr>\n",
       "      <th>fit_time</th>\n",
       "      <td>0.008763</td>\n",
       "    </tr>\n",
       "    <tr>\n",
       "      <th>score_time</th>\n",
       "      <td>0.010991</td>\n",
       "    </tr>\n",
       "    <tr>\n",
       "      <th>test_precision</th>\n",
       "      <td>0.830380</td>\n",
       "    </tr>\n",
       "    <tr>\n",
       "      <th>test_recall</th>\n",
       "      <td>0.797212</td>\n",
       "    </tr>\n",
       "    <tr>\n",
       "      <th>test_accuracy</th>\n",
       "      <td>0.825911</td>\n",
       "    </tr>\n",
       "    <tr>\n",
       "      <th>test_auc</th>\n",
       "      <td>0.873688</td>\n",
       "    </tr>\n",
       "  </tbody>\n",
       "</table>\n",
       "</div>"
      ],
      "text/plain": [
       "                  Wyniki\n",
       "fit_time        0.008763\n",
       "score_time      0.010991\n",
       "test_precision  0.830380\n",
       "test_recall     0.797212\n",
       "test_accuracy   0.825911\n",
       "test_auc        0.873688"
      ]
     },
     "execution_count": 714,
     "metadata": {},
     "output_type": "execute_result"
    }
   ],
   "source": [
    "svm = SVC()\n",
    "r_svm = cross_validate(svm, X_train, y_train, cv=kfold, scoring=scoring)\n",
    "vals = list(map(lambda x: np.mean(r_svm[x]), r_svm))\n",
    "sv = pd.DataFrame(vals,index = r_svm.keys())\n",
    "sv.columns  = ['Wyniki']\n",
    "sv"
   ]
  },
  {
   "cell_type": "markdown",
   "metadata": {},
   "source": [
    "Analizując wyniki osiągane przez poszczegółne algorytmy widać, iż są one dośc podobne do siebie, jednakże minimalnie najlepsze osiąga XGboost. Wyniki są dobre, jednkaże nie są idealne. Jako przyczynę tego uważam mały rozmiar zbioru, przez co ciężko o to aby te algorytmy mogły rozwinąć skrzydła."
   ]
  },
  {
   "cell_type": "markdown",
   "metadata": {},
   "source": [
    "## Feature importance"
   ]
  },
  {
   "cell_type": "markdown",
   "metadata": {},
   "source": [
    "Ciekawą rzeczą jaką można wyciągnąć z algorytmów drzewiastych jest feature importance. Jest to ważność cech wedle których algorytm dokonywał podziału danych w trakcie modelowania. Możemy dzięki temu okreslić moc predykcyjną kolumn, a więc porownać zaobserwowane dane z wnioskami poczynionymi w etapie EDA.`"
   ]
  },
  {
   "cell_type": "code",
   "execution_count": 715,
   "metadata": {},
   "outputs": [
    {
     "data": {
      "text/plain": [
       "<matplotlib.axes._subplots.AxesSubplot at 0x7fbac2a375d0>"
      ]
     },
     "execution_count": 715,
     "metadata": {},
     "output_type": "execute_result"
    },
    {
     "data": {
      "image/png": "[encoded data removed]",
      "text/plain": [
       "<Figure size 432x288 with 1 Axes>"
      ]
     },
     "metadata": {
      "needs_background": "light"
     },
     "output_type": "display_data"
    }
   ],
   "source": [
    "xg = xgb.XGBClassifier(objective='binary:logistic',nthread=4,n_jobs=4)\n",
    "xg.fit(X_train,y_train)\n",
    "feat_importances = pd.Series(xg.feature_importances_, index=cols)\n",
    "feat_importances.plot(kind='barh')"
   ]
  },
  {
   "cell_type": "markdown",
   "metadata": {},
   "source": [
    "Feature Importance potwierdza to co udało mi się zaobserwować w procesie EDA, przy czym dla algorytmu Xgboost płeć osoby miała absolutnie kluczowe znaczenie w decydowaniu czy dokona ona zakupu"
   ]
  },
  {
   "cell_type": "markdown",
   "metadata": {},
   "source": [
    "## Dobór parametrów"
   ]
  },
  {
   "cell_type": "code",
   "execution_count": 716,
   "metadata": {},
   "outputs": [
    {
     "name": "stdout",
     "output_type": "stream",
     "text": [
      "|   iter    |  target   | colsam... |   gamma   | learni... | max_depth | n_esti... | subsample |\n",
      "-------------------------------------------------------------------------------------------------\n",
      "| \u001b[0m 1       \u001b[0m | \u001b[0m 0.8691  \u001b[0m | \u001b[0m 0.7085  \u001b[0m | \u001b[0m 3.602   \u001b[0m | \u001b[0m 0.01011 \u001b[0m | \u001b[0m 5.814   \u001b[0m | \u001b[0m 232.1   \u001b[0m | \u001b[0m 0.5462  \u001b[0m |\n",
      "| \u001b[95m 2       \u001b[0m | \u001b[95m 0.8746  \u001b[0m | \u001b[95m 0.5931  \u001b[0m | \u001b[95m 1.728   \u001b[0m | \u001b[95m 0.4028  \u001b[0m | \u001b[95m 7.233   \u001b[0m | \u001b[95m 477.3   \u001b[0m | \u001b[95m 0.8426  \u001b[0m |\n",
      "| \u001b[95m 3       \u001b[0m | \u001b[95m 0.8787  \u001b[0m | \u001b[95m 0.6022  \u001b[0m | \u001b[95m 4.391   \u001b[0m | \u001b[95m 0.03711 \u001b[0m | \u001b[95m 8.023   \u001b[0m | \u001b[95m 475.6   \u001b[0m | \u001b[95m 0.7793  \u001b[0m |\n",
      "| \u001b[0m 4       \u001b[0m | \u001b[0m 0.8547  \u001b[0m | \u001b[0m 0.5702  \u001b[0m | \u001b[0m 0.9905  \u001b[0m | \u001b[0m 0.8027  \u001b[0m | \u001b[0m 9.81    \u001b[0m | \u001b[0m 382.1   \u001b[0m | \u001b[0m 0.8462  \u001b[0m |\n",
      "| \u001b[95m 5       \u001b[0m | \u001b[95m 0.8803  \u001b[0m | \u001b[95m 0.9382  \u001b[0m | \u001b[95m 4.473   \u001b[0m | \u001b[95m 0.09419 \u001b[0m | \u001b[95m 4.234   \u001b[0m | \u001b[95m 252.8   \u001b[0m | \u001b[95m 0.9391  \u001b[0m |\n",
      "| \u001b[0m 6       \u001b[0m | \u001b[0m 0.8702  \u001b[0m | \u001b[0m 0.535   \u001b[0m | \u001b[0m 5.0     \u001b[0m | \u001b[0m 0.01    \u001b[0m | \u001b[0m 4.0     \u001b[0m | \u001b[0m 1e+03   \u001b[0m | \u001b[0m 0.6262  \u001b[0m |\n",
      "| \u001b[0m 7       \u001b[0m | \u001b[0m 0.8618  \u001b[0m | \u001b[0m 0.5007  \u001b[0m | \u001b[0m 4.918   \u001b[0m | \u001b[0m 0.6546  \u001b[0m | \u001b[0m 4.605   \u001b[0m | \u001b[0m 779.8   \u001b[0m | \u001b[0m 0.882   \u001b[0m |\n",
      "| \u001b[0m 8       \u001b[0m | \u001b[0m 0.8645  \u001b[0m | \u001b[0m 0.6089  \u001b[0m | \u001b[0m 4.914   \u001b[0m | \u001b[0m 0.5066  \u001b[0m | \u001b[0m 4.263   \u001b[0m | \u001b[0m 625.6   \u001b[0m | \u001b[0m 0.555   \u001b[0m |\n",
      "| \u001b[95m 9       \u001b[0m | \u001b[95m 0.882   \u001b[0m | \u001b[95m 0.9273  \u001b[0m | \u001b[95m 4.385   \u001b[0m | \u001b[95m 0.2241  \u001b[0m | \u001b[95m 5.105   \u001b[0m | \u001b[95m 101.2   \u001b[0m | \u001b[95m 0.9879  \u001b[0m |\n",
      "| \u001b[0m 10      \u001b[0m | \u001b[0m 0.8764  \u001b[0m | \u001b[0m 0.8148  \u001b[0m | \u001b[0m 4.873   \u001b[0m | \u001b[0m 0.5638  \u001b[0m | \u001b[0m 4.113   \u001b[0m | \u001b[0m 913.9   \u001b[0m | \u001b[0m 0.8106  \u001b[0m |\n",
      "| \u001b[0m 11      \u001b[0m | \u001b[0m 0.8802  \u001b[0m | \u001b[0m 0.6253  \u001b[0m | \u001b[0m 4.891   \u001b[0m | \u001b[0m 0.3215  \u001b[0m | \u001b[0m 4.02    \u001b[0m | \u001b[0m 434.7   \u001b[0m | \u001b[0m 0.9075  \u001b[0m |\n",
      "| \u001b[0m 12      \u001b[0m | \u001b[0m 0.8772  \u001b[0m | \u001b[0m 0.645   \u001b[0m | \u001b[0m 4.757   \u001b[0m | \u001b[0m 0.1633  \u001b[0m | \u001b[0m 4.244   \u001b[0m | \u001b[0m 537.0   \u001b[0m | \u001b[0m 0.9139  \u001b[0m |\n",
      "| \u001b[0m 13      \u001b[0m | \u001b[0m 0.8302  \u001b[0m | \u001b[0m 0.5689  \u001b[0m | \u001b[0m 0.412   \u001b[0m | \u001b[0m 0.7306  \u001b[0m | \u001b[0m 9.838   \u001b[0m | \u001b[0m 946.2   \u001b[0m | \u001b[0m 0.6232  \u001b[0m |\n",
      "| \u001b[0m 14      \u001b[0m | \u001b[0m 0.8609  \u001b[0m | \u001b[0m 0.9132  \u001b[0m | \u001b[0m 4.751   \u001b[0m | \u001b[0m 0.7932  \u001b[0m | \u001b[0m 4.156   \u001b[0m | \u001b[0m 859.5   \u001b[0m | \u001b[0m 0.7876  \u001b[0m |\n",
      "| \u001b[0m 15      \u001b[0m | \u001b[0m 0.8741  \u001b[0m | \u001b[0m 0.6099  \u001b[0m | \u001b[0m 4.852   \u001b[0m | \u001b[0m 0.09267 \u001b[0m | \u001b[0m 4.061   \u001b[0m | \u001b[0m 319.0   \u001b[0m | \u001b[0m 0.6093  \u001b[0m |\n",
      "| \u001b[0m 16      \u001b[0m | \u001b[0m 0.8694  \u001b[0m | \u001b[0m 0.9778  \u001b[0m | \u001b[0m 0.4611  \u001b[0m | \u001b[0m 0.6677  \u001b[0m | \u001b[0m 4.263   \u001b[0m | \u001b[0m 100.8   \u001b[0m | \u001b[0m 0.7547  \u001b[0m |\n",
      "| \u001b[0m 17      \u001b[0m | \u001b[0m 0.8791  \u001b[0m | \u001b[0m 0.7339  \u001b[0m | \u001b[0m 4.906   \u001b[0m | \u001b[0m 0.1767  \u001b[0m | \u001b[0m 9.451   \u001b[0m | \u001b[0m 100.0   \u001b[0m | \u001b[0m 0.5075  \u001b[0m |\n",
      "| \u001b[0m 18      \u001b[0m | \u001b[0m 0.8702  \u001b[0m | \u001b[0m 0.5932  \u001b[0m | \u001b[0m 4.787   \u001b[0m | \u001b[0m 0.2899  \u001b[0m | \u001b[0m 4.158   \u001b[0m | \u001b[0m 696.0   \u001b[0m | \u001b[0m 0.6247  \u001b[0m |\n",
      "| \u001b[0m 19      \u001b[0m | \u001b[0m 0.8593  \u001b[0m | \u001b[0m 0.5447  \u001b[0m | \u001b[0m 4.388   \u001b[0m | \u001b[0m 0.7535  \u001b[0m | \u001b[0m 4.134   \u001b[0m | \u001b[0m 498.0   \u001b[0m | \u001b[0m 0.8512  \u001b[0m |\n",
      "| \u001b[0m 20      \u001b[0m | \u001b[0m 0.8496  \u001b[0m | \u001b[0m 0.9476  \u001b[0m | \u001b[0m 0.2187  \u001b[0m | \u001b[0m 0.4347  \u001b[0m | \u001b[0m 9.963   \u001b[0m | \u001b[0m 579.0   \u001b[0m | \u001b[0m 0.6813  \u001b[0m |\n",
      "| \u001b[0m 21      \u001b[0m | \u001b[0m 0.8539  \u001b[0m | \u001b[0m 0.5262  \u001b[0m | \u001b[0m 4.961   \u001b[0m | \u001b[0m 0.7619  \u001b[0m | \u001b[0m 5.877   \u001b[0m | \u001b[0m 147.7   \u001b[0m | \u001b[0m 0.7604  \u001b[0m |\n",
      "| \u001b[0m 22      \u001b[0m | \u001b[0m 0.8765  \u001b[0m | \u001b[0m 0.8338  \u001b[0m | \u001b[0m 0.006532\u001b[0m | \u001b[0m 0.0484  \u001b[0m | \u001b[0m 9.977   \u001b[0m | \u001b[0m 294.0   \u001b[0m | \u001b[0m 0.5442  \u001b[0m |\n",
      "| \u001b[0m 23      \u001b[0m | \u001b[0m 0.873   \u001b[0m | \u001b[0m 0.5284  \u001b[0m | \u001b[0m 4.757   \u001b[0m | \u001b[0m 0.2362  \u001b[0m | \u001b[0m 9.851   \u001b[0m | \u001b[0m 284.3   \u001b[0m | \u001b[0m 0.9408  \u001b[0m |\n",
      "| \u001b[0m 24      \u001b[0m | \u001b[0m 0.8715  \u001b[0m | \u001b[0m 0.9257  \u001b[0m | \u001b[0m 0.4386  \u001b[0m | \u001b[0m 0.06843 \u001b[0m | \u001b[0m 9.98    \u001b[0m | \u001b[0m 442.6   \u001b[0m | \u001b[0m 0.9295  \u001b[0m |\n",
      "| \u001b[0m 25      \u001b[0m | \u001b[0m 0.8784  \u001b[0m | \u001b[0m 0.766   \u001b[0m | \u001b[0m 4.836   \u001b[0m | \u001b[0m 0.09621 \u001b[0m | \u001b[0m 4.07    \u001b[0m | \u001b[0m 958.0   \u001b[0m | \u001b[0m 0.6594  \u001b[0m |\n",
      "| \u001b[0m 26      \u001b[0m | \u001b[0m 0.8684  \u001b[0m | \u001b[0m 0.7842  \u001b[0m | \u001b[0m 4.76    \u001b[0m | \u001b[0m 0.5627  \u001b[0m | \u001b[0m 4.076   \u001b[0m | \u001b[0m 568.9   \u001b[0m | \u001b[0m 0.5859  \u001b[0m |\n",
      "| \u001b[0m 27      \u001b[0m | \u001b[0m 0.8785  \u001b[0m | \u001b[0m 0.6848  \u001b[0m | \u001b[0m 4.89    \u001b[0m | \u001b[0m 0.09932 \u001b[0m | \u001b[0m 9.966   \u001b[0m | \u001b[0m 672.2   \u001b[0m | \u001b[0m 0.616   \u001b[0m |\n",
      "| \u001b[0m 28      \u001b[0m | \u001b[0m 0.8725  \u001b[0m | \u001b[0m 0.6659  \u001b[0m | \u001b[0m 4.662   \u001b[0m | \u001b[0m 0.2016  \u001b[0m | \u001b[0m 9.951   \u001b[0m | \u001b[0m 737.6   \u001b[0m | \u001b[0m 0.7675  \u001b[0m |\n",
      "| \u001b[0m 29      \u001b[0m | \u001b[0m 0.8775  \u001b[0m | \u001b[0m 0.7576  \u001b[0m | \u001b[0m 0.3871  \u001b[0m | \u001b[0m 0.03264 \u001b[0m | \u001b[0m 4.532   \u001b[0m | \u001b[0m 284.2   \u001b[0m | \u001b[0m 0.9634  \u001b[0m |\n",
      "| \u001b[95m 30      \u001b[0m | \u001b[95m 0.8828  \u001b[0m | \u001b[95m 0.9601  \u001b[0m | \u001b[95m 3.317   \u001b[0m | \u001b[95m 0.1746  \u001b[0m | \u001b[95m 4.243   \u001b[0m | \u001b[95m 461.2   \u001b[0m | \u001b[95m 0.9184  \u001b[0m |\n",
      "=================================================================================================\n",
      "Final Results\n",
      "{'target': 0.8828363462936046, 'params': {'colsample_bytree': 0.9600635569997579, 'gamma': 3.316518513905074, 'learning_rate': 0.17461793207064094, 'max_depth': 4.242897473499274, 'n_estimators': 461.2056068757335, 'subsample': 0.9184308745842267}}\n"
     ]
    }
   ],
   "source": [
    "pbounds = {'learning_rate': (0.01, 1.0), 'n_estimators': (100.0, 1000.0), 'max_depth': (4.0,10.0), \n",
    "           'subsample': (0.5, 1.0), 'colsample_bytree': (0.5, 1.0),'gamma': (0.0,5.0)}\n",
    "\n",
    "def xgboost_hyper_param(learning_rate,n_estimators,max_depth,subsample,colsample_bytree,gamma):\n",
    "    max_depth = int(max_depth)\n",
    "    n_estimators = int(n_estimators)\n",
    "    clf = xgb.XGBClassifier(max_depth=max_depth,learning_rate=learning_rate,n_estimators=n_estimators,\n",
    "                            subsample=subsample,colsample_bytree=colsample_bytree,gamma=gamma)\n",
    "    return np.mean(cross_val_score(clf, X_train, y_train, cv=3, scoring='roc_auc'))\n",
    "\n",
    "optimizer = BayesianOptimization(f=xgboost_hyper_param, pbounds=pbounds, random_state=1)\n",
    "optimizer.maximize()\n",
    "print('Final Results')\n",
    "print(optimizer.max)"
   ]
  },
  {
   "cell_type": "markdown",
   "metadata": {},
   "source": [
    "Proces optymalizacji bayesowskiej pozwolił wyznaczyć optymalne parametry w sposob duzo prostszy i bardziej efektywny niz chociazby GridSearch."
   ]
  },
  {
   "cell_type": "markdown",
   "metadata": {},
   "source": [
    "Sprawdźmy sprawowanie się modelu na wyznaczonych przez optymalizację parametrach."
   ]
  },
  {
   "cell_type": "code",
   "execution_count": 726,
   "metadata": {},
   "outputs": [
    {
     "data": {
      "text/html": [
       "<div>\n",
       "<style scoped>\n",
       "    .dataframe tbody tr th:only-of-type {\n",
       "        vertical-align: middle;\n",
       "    }\n",
       "\n",
       "    .dataframe tbody tr th {\n",
       "        vertical-align: top;\n",
       "    }\n",
       "\n",
       "    .dataframe thead th {\n",
       "        text-align: right;\n",
       "    }\n",
       "</style>\n",
       "<table border=\"1\" class=\"dataframe\">\n",
       "  <thead>\n",
       "    <tr style=\"text-align: right;\">\n",
       "      <th></th>\n",
       "      <th>Wyniki</th>\n",
       "    </tr>\n",
       "  </thead>\n",
       "  <tbody>\n",
       "    <tr>\n",
       "      <th>fit_time</th>\n",
       "      <td>0.089421</td>\n",
       "    </tr>\n",
       "    <tr>\n",
       "      <th>score_time</th>\n",
       "      <td>0.008295</td>\n",
       "    </tr>\n",
       "    <tr>\n",
       "      <th>test_precision</th>\n",
       "      <td>0.834586</td>\n",
       "    </tr>\n",
       "    <tr>\n",
       "      <th>test_recall</th>\n",
       "      <td>0.812870</td>\n",
       "    </tr>\n",
       "    <tr>\n",
       "      <th>test_accuracy</th>\n",
       "      <td>0.835480</td>\n",
       "    </tr>\n",
       "    <tr>\n",
       "      <th>test_auc</th>\n",
       "      <td>0.889287</td>\n",
       "    </tr>\n",
       "  </tbody>\n",
       "</table>\n",
       "</div>"
      ],
      "text/plain": [
       "                  Wyniki\n",
       "fit_time        0.089421\n",
       "score_time      0.008295\n",
       "test_precision  0.834586\n",
       "test_recall     0.812870\n",
       "test_accuracy   0.835480\n",
       "test_auc        0.889287"
      ]
     },
     "execution_count": 726,
     "metadata": {},
     "output_type": "execute_result"
    }
   ],
   "source": [
    "xg = xgb.XGBClassifier(objective='binary:logistic',nthread=4,n_jobs=4,params=optimizer.max)\n",
    "r_xgb = cross_validate(xg, X_train, y_train, cv=kfold, scoring=scoring)\n",
    "vals = list(map(lambda x: np.mean(r_xgb[x]), r_xgb))\n",
    "xgd = pd.DataFrame(vals,index = r_xgb.keys())\n",
    "xgd.columns  = ['Wyniki']\n",
    "xgd"
   ]
  },
  {
   "cell_type": "code",
   "execution_count": 741,
   "metadata": {},
   "outputs": [
    {
     "data": {
      "text/plain": [
       "<matplotlib.axes._subplots.AxesSubplot at 0x7fbac26d67d0>"
      ]
     },
     "execution_count": 741,
     "metadata": {},
     "output_type": "execute_result"
    },
    {
     "data": {
      "image/png": "[encoded data removed]",
      "text/plain": [
       "<Figure size 432x288 with 2 Axes>"
      ]
     },
     "metadata": {
      "needs_background": "light"
     },
     "output_type": "display_data"
    }
   ],
   "source": [
    "y_pred = cross_val_predict(xg,X_train, y_train, cv=3)\n",
    "conf_mat = confusion_matrix(y_train, y_pred)\n",
    "sns.heatmap(conf_mat, annot=True,fmt='g')"
   ]
  },
  {
   "cell_type": "markdown",
   "metadata": {},
   "source": [
    "Ostateczne wyniki są umiarkowanie dobre i mogą posłużyć do skutecznej indentyfikacji klientów."
   ]
  },
  {
   "cell_type": "markdown",
   "metadata": {},
   "source": [
    "Warto zauważyć iż dużo bardziej jest dla nasz kosztowny błąd, gdy odrzucamy kogoś kto jest zainteresowany kupnem, niż gdy przyjmujemy kogoś kto nie jest nim zainteresowany. Dlatego dobrym pomysłem wydaję się być odpowiednie dostosowanie thresholdu, aby lepiej pozycjonować klientów."
   ]
  },
  {
   "cell_type": "code",
   "execution_count": 754,
   "metadata": {},
   "outputs": [
    {
     "data": {
      "text/plain": [
       "<matplotlib.axes._subplots.AxesSubplot at 0x7fbac2663690>"
      ]
     },
     "execution_count": 754,
     "metadata": {},
     "output_type": "execute_result"
    },
    {
     "data": {
      "image/png": "[encoded data removed]",
      "text/plain": [
       "<Figure size 432x288 with 2 Axes>"
      ]
     },
     "metadata": {
      "needs_background": "light"
     },
     "output_type": "display_data"
    }
   ],
   "source": [
    "y_pred = cross_val_predict(xg,X_train, y_train, cv=3,method='predict_proba')\n",
    "y_pred = y_pred[:,1]\n",
    "for i in range(len(y_pred)):\n",
    "    if y_pred[i]>0.3:\n",
    "        y_pred[i] = 1\n",
    "    else:\n",
    "        y_pred[i] = 0\n",
    "conf_mat = confusion_matrix(y_train, y_pred)\n",
    "sns.heatmap(conf_mat, annot=True,fmt='g')"
   ]
  },
  {
   "cell_type": "markdown",
   "metadata": {},
   "source": [
    "# Ostateczna predykcja"
   ]
  },
  {
   "cell_type": "code",
   "execution_count": 723,
   "metadata": {},
   "outputs": [
    {
     "data": {
      "text/html": [
       "<div>\n",
       "<style scoped>\n",
       "    .dataframe tbody tr th:only-of-type {\n",
       "        vertical-align: middle;\n",
       "    }\n",
       "\n",
       "    .dataframe tbody tr th {\n",
       "        vertical-align: top;\n",
       "    }\n",
       "\n",
       "    .dataframe thead th {\n",
       "        text-align: right;\n",
       "    }\n",
       "</style>\n",
       "<table border=\"1\" class=\"dataframe\">\n",
       "  <thead>\n",
       "    <tr style=\"text-align: right;\">\n",
       "      <th></th>\n",
       "      <th>Predykcja</th>\n",
       "    </tr>\n",
       "    <tr>\n",
       "      <th>Id</th>\n",
       "      <th></th>\n",
       "    </tr>\n",
       "  </thead>\n",
       "  <tbody>\n",
       "    <tr>\n",
       "      <th>1</th>\n",
       "      <td>1</td>\n",
       "    </tr>\n",
       "    <tr>\n",
       "      <th>2</th>\n",
       "      <td>0</td>\n",
       "    </tr>\n",
       "    <tr>\n",
       "      <th>3</th>\n",
       "      <td>1</td>\n",
       "    </tr>\n",
       "    <tr>\n",
       "      <th>4</th>\n",
       "      <td>1</td>\n",
       "    </tr>\n",
       "    <tr>\n",
       "      <th>5</th>\n",
       "      <td>0</td>\n",
       "    </tr>\n",
       "    <tr>\n",
       "      <th>...</th>\n",
       "      <td>...</td>\n",
       "    </tr>\n",
       "    <tr>\n",
       "      <th>257</th>\n",
       "      <td>0</td>\n",
       "    </tr>\n",
       "    <tr>\n",
       "      <th>258</th>\n",
       "      <td>0</td>\n",
       "    </tr>\n",
       "    <tr>\n",
       "      <th>259</th>\n",
       "      <td>0</td>\n",
       "    </tr>\n",
       "    <tr>\n",
       "      <th>260</th>\n",
       "      <td>0</td>\n",
       "    </tr>\n",
       "    <tr>\n",
       "      <th>261</th>\n",
       "      <td>0</td>\n",
       "    </tr>\n",
       "  </tbody>\n",
       "</table>\n",
       "<p>261 rows × 1 columns</p>\n",
       "</div>"
      ],
      "text/plain": [
       "     Predykcja\n",
       "Id            \n",
       "1            1\n",
       "2            0\n",
       "3            1\n",
       "4            1\n",
       "5            0\n",
       "..         ...\n",
       "257          0\n",
       "258          0\n",
       "259          0\n",
       "260          0\n",
       "261          0\n",
       "\n",
       "[261 rows x 1 columns]"
      ]
     },
     "execution_count": 723,
     "metadata": {},
     "output_type": "execute_result"
    }
   ],
   "source": [
    "xg.fit(X_train,y_train)\n",
    "pred = xg.predict(X_test)\n",
    "output = pd.DataFrame(pred,index=X_test_id)\n",
    "output.columns = ['Predykcja']\n",
    "output"
   ]
  },
  {
   "cell_type": "markdown",
   "metadata": {},
   "source": [
    "# Podsumowanie"
   ]
  },
  {
   "cell_type": "markdown",
   "metadata": {},
   "source": [
    "Uważam iż udało mi się efektywnie przeanalizować dane oraz zbudować model zdolny do dobrego przewidywania tego czy klient będzie zainteresowany kupnem produktu. Obserwacje, które poczyniłem w trakcie EDA, tzn. fakt iż płeć oraz MarketSegment mają duży wpływ na zachowanie klienta okazały się prawdziwe. XGboost okazał się najlepszym z modeli, które przetestowałem, jego wyniki były satysfakcjonujące, tj. wartość AUC sięgała 0.89, co jest dobrym wynikiem. Z pewnością wyniki poprawiłoby zgromadzenie większej ilości danych, jako że 887 wierszy łącznie w zbiorze testowym oraz treningowym to dość mało. Dodatkowo z pewnością sporym usprawnieniem byłoby zebranie dodatkowych danych o klientach, co pozwoliłoby jeszcze lepiej przewidywać ich zachowania."
   ]
  }
 ],
 "metadata": {
  "kernelspec": {
   "display_name": "Python 3.7.6 64-bit ('wum_projekt_1': conda)",
   "language": "python",
   "name": "python37664bitwumprojekt1condaed2b3fa0ea9545aa93fe4c48967ebc97"
  },
  "language_info": {
   "codemirror_mode": {
    "name": "ipython",
    "version": 3
   },
   "file_extension": ".py",
   "mimetype": "text/x-python",
   "name": "python",
   "nbconvert_exporter": "python",
   "pygments_lexer": "ipython3",
   "version": "3.7.6"
  }
 },
 "nbformat": 4,
 "nbformat_minor": 4
}
