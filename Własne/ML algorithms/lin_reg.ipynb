{
 "nbformat": 4,
 "nbformat_minor": 2,
 "metadata": {
  "language_info": {
   "name": "python",
   "codemirror_mode": {
    "name": "ipython",
    "version": 3
   },
   "version": "3.7.6-final"
  },
  "orig_nbformat": 2,
  "file_extension": ".py",
  "mimetype": "text/x-python",
  "name": "python",
  "npconvert_exporter": "python",
  "pygments_lexer": "ipython3",
  "version": 3,
  "kernelspec": {
   "name": "python37664bitwumprojekt1condaed2b3fa0ea9545aa93fe4c48967ebc97",
   "display_name": "Python 3.7.6 64-bit ('wum_projekt_1': conda)"
  }
 },
 "cells": [
  {
   "cell_type": "code",
   "execution_count": 228,
   "metadata": {},
   "outputs": [],
   "source": [
    "import numpy as np\n",
    "import seaborn as sns\n",
    "import pandas as pd\n",
    "import matplotlib.pyplot as plt\n",
    "from sklearn.linear_model import LinearRegression\n",
    "from sklearn.metrics import mean_squared_error"
   ]
  },
  {
   "cell_type": "code",
   "execution_count": 454,
   "metadata": {},
   "outputs": [],
   "source": [
    "\n",
    "class Model:\n",
    "    \n",
    "    def __init__(self):\n",
    "        self.theta= None\n",
    "        np.random.seed(100)\n",
    "\n",
    "    def fit(self, X: np.ndarray, y: np.ndarray,iterations=50,learning_rate = 0.01) -> None:\n",
    "        #SGD\n",
    "        m = X.shape[0]\n",
    "        n = X.shape[1]+1\n",
    "        self.theta = np.random.randn(n,1)\n",
    "        X_b = np.c_[np.ones((m,1)),X]\n",
    "        for i in range(iterations):\n",
    "            for i in range(m):\n",
    "                random_index = np.random.randint(m)\n",
    "                xi = X_b[random_index:random_index+1]\n",
    "                yi = y[random_index:random_index+1]\n",
    "                gradient = xi.T.dot(yi - xi.dot(self.theta)) + (1/m)*self.theta\n",
    "                self.theta = self.theta + learning_rate*gradient\n",
    "                #gradient = (yi - xi.dot(theta)).dot(xi) + theta.T/m\n",
    "                #theta = theta + learning_rate*gradient.T\n",
    "        return\n",
    "\n",
    "    def fit_batch(self, X: np.ndarray, y: np.ndarray,iterations=10000,batch_size=16,learning_rate = 0.01) -> None:\n",
    "        #Mini batch gradient\n",
    "        m = X.shape[0]\n",
    "        n = X.shape[1]+1\n",
    "        self.theta = np.random.randn(n,1)\n",
    "        X_b = np.c_[np.ones((m,1)),X]\n",
    "        for i in range(iterations):\n",
    "            indexes = np.random.randint(low=0,high=m,size=batch_size)\n",
    "            xi = X_b[indexes]\n",
    "            yi = y[indexes].reshape(batch_size,1)\n",
    "            gradient =(1/batch_size)* xi.T.dot(yi - xi.dot(self.theta))\n",
    "            self.theta = self.theta + learning_rate*gradient\n",
    "        return\n",
    "\n",
    "\n",
    "    def coef(self):\n",
    "        return self.theta\n",
    "\n",
    "\n",
    "    def predict(self, X: np.ndarray) -> np.ndarray:\n",
    "        m = X.shape[0]\n",
    "        X_b = np.c_[np.ones((m,1)),X]\n",
    "        y_predict = X_b.dot(self.theta)\n",
    "        return y_predict.reshape(m,)\n",
    "\n",
    "    @staticmethod\n",
    "    def evaluate(y_true: np.ndarray, y_pred: np.ndarray) -> float:\n",
    "        return np.sqrt(np.mean((y_true-y_pred)**2))\n",
    ""
   ]
  },
  {
   "cell_type": "code",
   "execution_count": 441,
   "metadata": {},
   "outputs": [],
   "source": [
    "from sklearn.datasets import make_regression\n",
    "from sklearn.model_selection import train_test_split\n",
    "X,y,coef= make_regression(n_samples=1000,n_features=1,n_informative=1,coef=True,bias=10)\n",
    "X_train,X_test,y_train,y_test = train_test_split(X,y,test_size = 0.2)"
   ]
  },
  {
   "cell_type": "code",
   "execution_count": 455,
   "metadata": {},
   "outputs": [
    {
     "output_type": "execute_result",
     "data": {
      "text/plain": "0.11819598817451804"
     },
     "metadata": {},
     "execution_count": 455
    }
   ],
   "source": [
    "lin = Model()\n",
    "lin.fit(X_train,y_train)\n",
    "pred = lin.predict(X_test)\n",
    "lin.evaluate(y_test,pred)"
   ]
  },
  {
   "cell_type": "code",
   "execution_count": 450,
   "metadata": {},
   "outputs": [
    {
     "output_type": "execute_result",
     "data": {
      "text/plain": "2.8428973524033527e-13"
     },
     "metadata": {},
     "execution_count": 450
    }
   ],
   "source": [
    "lin1 = Model()\n",
    "lin1.fit_batch(X_train,y_train)\n",
    "pred = lin1.predict(X_test)\n",
    "lin1.evaluate(y_test,pred)"
   ]
  },
  {
   "cell_type": "code",
   "execution_count": 444,
   "metadata": {},
   "outputs": [
    {
     "output_type": "execute_result",
     "data": {
      "text/plain": "9.834018930575654e-28"
     },
     "metadata": {},
     "execution_count": 444
    }
   ],
   "source": [
    "lin_reg = LinearRegression()\n",
    "lin_reg.fit(X_train,y_train)\n",
    "pred = lin_reg.predict(X_test)\n",
    "mean_squared_error(y_test,pred)"
   ]
  }
 ]
}