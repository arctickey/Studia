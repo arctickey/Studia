{
 "cells": [
  {
   "cell_type": "code",
   "execution_count": 35,
   "metadata": {},
   "outputs": [],
   "source": [
    "import pandas as pd\n",
    "import numpy as np\n",
    "import seaborn as sns\n",
    "import warnings\n",
    "import matplotlib.pyplot as plt\n",
    "%matplotlib inline\n",
    "plt.rcParams[\"figure.figsize\"] = [10, 5]\n",
    "warnings.filterwarnings(\"ignore\")"
   ]
  },
  {
   "cell_type": "markdown",
   "metadata": {},
   "source": [
    "# Wczytanie danych"
   ]
  },
  {
   "cell_type": "code",
   "execution_count": 2,
   "metadata": {},
   "outputs": [],
   "source": [
    "data = pd.read_excel('./Test_case1.xlsx')"
   ]
  },
  {
   "cell_type": "markdown",
   "metadata": {},
   "source": [
    "# Podstawowe informacje o zbiorze"
   ]
  },
  {
   "cell_type": "code",
   "execution_count": 3,
   "metadata": {},
   "outputs": [
    {
     "name": "stdout",
     "output_type": "stream",
     "text": [
      "<class 'pandas.core.frame.DataFrame'>\n",
      "RangeIndex: 165906 entries, 0 to 165905\n",
      "Data columns (total 28 columns):\n",
      " #   Column                   Non-Null Count   Dtype  \n",
      "---  ------                   --------------   -----  \n",
      " 0   idcase                   165906 non-null  int64  \n",
      " 1   txtprocess               165906 non-null  object \n",
      " 2   csd                      165906 non-null  object \n",
      " 3   txtfranchise             165906 non-null  object \n",
      " 4   txtdrugcode              165906 non-null  object \n",
      " 5   txtgeneric_name          165900 non-null  object \n",
      " 6   txtcountry_of_incidence  165906 non-null  object \n",
      " 7   txtfile_name             165906 non-null  object \n",
      " 8   txtmarrs_case_id         162274 non-null  object \n",
      " 9   txtreporttype            165906 non-null  object \n",
      " 10  weight                   165906 non-null  float64\n",
      " 11  initial_follow_up        165873 non-null  object \n",
      " 12  userid_dmcs_imported     165906 non-null  object \n",
      " 13  date_dmcs_imported       165906 non-null  object \n",
      " 14  add_reason               165166 non-null  object \n",
      " 15  date_dmcs_routed         164935 non-null  object \n",
      " 16  userid_dmcs_routed       165906 non-null  object \n",
      " 17  txtdmc                   165904 non-null  object \n",
      " 18  date_dmcs_received       165698 non-null  object \n",
      " 19  userid_coord_routed_by   165829 non-null  object \n",
      " 20  userid_coord_routed_to   165827 non-null  object \n",
      " 21  date_coord_routed        165829 non-null  object \n",
      " 22  date_coord_received      165527 non-null  object \n",
      " 23  userid_coord_processing  165520 non-null  object \n",
      " 24  date_coord_processing    165520 non-null  object \n",
      " 25  userid_coord_completed   165065 non-null  object \n",
      " 26  date_coord_completed     165067 non-null  object \n",
      " 27  txtstatus                165906 non-null  object \n",
      "dtypes: float64(1), int64(1), object(26)\n",
      "memory usage: 35.4+ MB\n"
     ]
    }
   ],
   "source": [
    "data.info()"
   ]
  },
  {
   "cell_type": "code",
   "execution_count": 4,
   "metadata": {},
   "outputs": [
    {
     "data": {
      "text/html": [
       "<div>\n",
       "<style scoped>\n",
       "    .dataframe tbody tr th:only-of-type {\n",
       "        vertical-align: middle;\n",
       "    }\n",
       "\n",
       "    .dataframe tbody tr th {\n",
       "        vertical-align: top;\n",
       "    }\n",
       "\n",
       "    .dataframe thead th {\n",
       "        text-align: right;\n",
       "    }\n",
       "</style>\n",
       "<table border=\"1\" class=\"dataframe\">\n",
       "  <thead>\n",
       "    <tr style=\"text-align: right;\">\n",
       "      <th></th>\n",
       "      <th>idcase</th>\n",
       "      <th>txtprocess</th>\n",
       "      <th>csd</th>\n",
       "      <th>txtfranchise</th>\n",
       "      <th>txtdrugcode</th>\n",
       "      <th>txtgeneric_name</th>\n",
       "      <th>txtcountry_of_incidence</th>\n",
       "      <th>txtfile_name</th>\n",
       "      <th>txtmarrs_case_id</th>\n",
       "      <th>txtreporttype</th>\n",
       "      <th>...</th>\n",
       "      <th>date_dmcs_received</th>\n",
       "      <th>userid_coord_routed_by</th>\n",
       "      <th>userid_coord_routed_to</th>\n",
       "      <th>date_coord_routed</th>\n",
       "      <th>date_coord_received</th>\n",
       "      <th>userid_coord_processing</th>\n",
       "      <th>date_coord_processing</th>\n",
       "      <th>userid_coord_completed</th>\n",
       "      <th>date_coord_completed</th>\n",
       "      <th>txtstatus</th>\n",
       "    </tr>\n",
       "  </thead>\n",
       "  <tbody>\n",
       "    <tr>\n",
       "      <th>0</th>\n",
       "      <td>14360</td>\n",
       "      <td>Intake</td>\n",
       "      <td>2017-06-01 00:00:00</td>\n",
       "      <td>Neurology and Ophthalmology</td>\n",
       "      <td>DrugCode1</td>\n",
       "      <td>GenericName1</td>\n",
       "      <td>CountryName1</td>\n",
       "      <td>FileName1</td>\n",
       "      <td>CaseId1</td>\n",
       "      <td>ReportType1</td>\n",
       "      <td>...</td>\n",
       "      <td>2017-07-07 08:00:00</td>\n",
       "      <td>User364</td>\n",
       "      <td>User54</td>\n",
       "      <td>2017-07-07 08:00:00</td>\n",
       "      <td>2017-07-07 08:00:00</td>\n",
       "      <td>User54</td>\n",
       "      <td>2017-07-07 12:48:00</td>\n",
       "      <td>User54</td>\n",
       "      <td>2017-07-07 12:48:00</td>\n",
       "      <td>2_COMPLETED</td>\n",
       "    </tr>\n",
       "    <tr>\n",
       "      <th>1</th>\n",
       "      <td>14370</td>\n",
       "      <td>Intake</td>\n",
       "      <td>01-AUG-17 12.00.00.000000000 AM</td>\n",
       "      <td>Cardiovascular</td>\n",
       "      <td>DrugCode2</td>\n",
       "      <td>GenericName2</td>\n",
       "      <td>CountryName2</td>\n",
       "      <td>FileName2</td>\n",
       "      <td>CaseId2</td>\n",
       "      <td>ReportType2</td>\n",
       "      <td>...</td>\n",
       "      <td>2017-07-07 08:00:00</td>\n",
       "      <td>User364</td>\n",
       "      <td>User445</td>\n",
       "      <td>2017-07-07 08:00:00</td>\n",
       "      <td>2017-07-07 08:00:00</td>\n",
       "      <td>User445</td>\n",
       "      <td>2017-07-07 12:48:00</td>\n",
       "      <td>User445</td>\n",
       "      <td>2017-07-07 12:48:00</td>\n",
       "      <td>2_COMPLETED</td>\n",
       "    </tr>\n",
       "    <tr>\n",
       "      <th>2</th>\n",
       "      <td>14371</td>\n",
       "      <td>Intake</td>\n",
       "      <td>01-AUG-17 12.00.00.000000000 AM</td>\n",
       "      <td>Oncology</td>\n",
       "      <td>DrugCode3</td>\n",
       "      <td>GenericName3</td>\n",
       "      <td>CountryName3</td>\n",
       "      <td>FileName2</td>\n",
       "      <td>CaseId3</td>\n",
       "      <td>ReportType3</td>\n",
       "      <td>...</td>\n",
       "      <td>2017-07-07 08:00:00</td>\n",
       "      <td>User364</td>\n",
       "      <td>User453</td>\n",
       "      <td>2017-07-07 08:00:00</td>\n",
       "      <td>2017-07-07 08:00:00</td>\n",
       "      <td>User453</td>\n",
       "      <td>2017-07-07 12:48:00</td>\n",
       "      <td>User453</td>\n",
       "      <td>2017-07-07 12:48:00</td>\n",
       "      <td>2_COMPLETED</td>\n",
       "    </tr>\n",
       "    <tr>\n",
       "      <th>3</th>\n",
       "      <td>14390</td>\n",
       "      <td>Intake</td>\n",
       "      <td>02-AUG-17 12.00.00.000000000 AM</td>\n",
       "      <td>Oncology</td>\n",
       "      <td>DrugCode3</td>\n",
       "      <td>GenericName3</td>\n",
       "      <td>CountryName3</td>\n",
       "      <td>FileName3</td>\n",
       "      <td>CaseId4</td>\n",
       "      <td>ReportType4</td>\n",
       "      <td>...</td>\n",
       "      <td>2017-07-07 08:00:00</td>\n",
       "      <td>User364</td>\n",
       "      <td>User280</td>\n",
       "      <td>2017-07-07 08:00:00</td>\n",
       "      <td>2017-07-07 08:00:00</td>\n",
       "      <td>User280</td>\n",
       "      <td>2017-07-07 12:48:00</td>\n",
       "      <td>User280</td>\n",
       "      <td>2017-07-07 12:48:00</td>\n",
       "      <td>2_COMPLETED</td>\n",
       "    </tr>\n",
       "    <tr>\n",
       "      <th>4</th>\n",
       "      <td>14411</td>\n",
       "      <td>Intake</td>\n",
       "      <td>02-JUN-17 12.00.00.000000000 AM</td>\n",
       "      <td>Gastro, anti-inflammatory and pain</td>\n",
       "      <td>DrugCode4</td>\n",
       "      <td>GenericName4</td>\n",
       "      <td>CountryName4</td>\n",
       "      <td>FileName1</td>\n",
       "      <td>CaseId5</td>\n",
       "      <td>ReportType1</td>\n",
       "      <td>...</td>\n",
       "      <td>2017-07-07 08:00:00</td>\n",
       "      <td>User364</td>\n",
       "      <td>User55</td>\n",
       "      <td>2017-07-07 08:00:00</td>\n",
       "      <td>2017-07-07 08:00:00</td>\n",
       "      <td>User55</td>\n",
       "      <td>2017-07-07 12:48:00</td>\n",
       "      <td>User55</td>\n",
       "      <td>2017-07-07 12:48:00</td>\n",
       "      <td>2_COMPLETED</td>\n",
       "    </tr>\n",
       "  </tbody>\n",
       "</table>\n",
       "<p>5 rows × 28 columns</p>\n",
       "</div>"
      ],
      "text/plain": [
       "   idcase txtprocess                              csd  \\\n",
       "0   14360     Intake              2017-06-01 00:00:00   \n",
       "1   14370     Intake  01-AUG-17 12.00.00.000000000 AM   \n",
       "2   14371     Intake  01-AUG-17 12.00.00.000000000 AM   \n",
       "3   14390     Intake  02-AUG-17 12.00.00.000000000 AM   \n",
       "4   14411     Intake  02-JUN-17 12.00.00.000000000 AM   \n",
       "\n",
       "                         txtfranchise txtdrugcode txtgeneric_name  \\\n",
       "0         Neurology and Ophthalmology   DrugCode1    GenericName1   \n",
       "1                      Cardiovascular   DrugCode2    GenericName2   \n",
       "2                            Oncology   DrugCode3    GenericName3   \n",
       "3                            Oncology   DrugCode3    GenericName3   \n",
       "4  Gastro, anti-inflammatory and pain   DrugCode4    GenericName4   \n",
       "\n",
       "  txtcountry_of_incidence txtfile_name txtmarrs_case_id txtreporttype  ...  \\\n",
       "0            CountryName1    FileName1          CaseId1   ReportType1  ...   \n",
       "1            CountryName2    FileName2          CaseId2   ReportType2  ...   \n",
       "2            CountryName3    FileName2          CaseId3   ReportType3  ...   \n",
       "3            CountryName3    FileName3          CaseId4   ReportType4  ...   \n",
       "4            CountryName4    FileName1          CaseId5   ReportType1  ...   \n",
       "\n",
       "    date_dmcs_received userid_coord_routed_by userid_coord_routed_to  \\\n",
       "0  2017-07-07 08:00:00                User364                 User54   \n",
       "1  2017-07-07 08:00:00                User364                User445   \n",
       "2  2017-07-07 08:00:00                User364                User453   \n",
       "3  2017-07-07 08:00:00                User364                User280   \n",
       "4  2017-07-07 08:00:00                User364                 User55   \n",
       "\n",
       "     date_coord_routed  date_coord_received userid_coord_processing  \\\n",
       "0  2017-07-07 08:00:00  2017-07-07 08:00:00                  User54   \n",
       "1  2017-07-07 08:00:00  2017-07-07 08:00:00                 User445   \n",
       "2  2017-07-07 08:00:00  2017-07-07 08:00:00                 User453   \n",
       "3  2017-07-07 08:00:00  2017-07-07 08:00:00                 User280   \n",
       "4  2017-07-07 08:00:00  2017-07-07 08:00:00                  User55   \n",
       "\n",
       "  date_coord_processing userid_coord_completed date_coord_completed  \\\n",
       "0   2017-07-07 12:48:00                 User54  2017-07-07 12:48:00   \n",
       "1   2017-07-07 12:48:00                User445  2017-07-07 12:48:00   \n",
       "2   2017-07-07 12:48:00                User453  2017-07-07 12:48:00   \n",
       "3   2017-07-07 12:48:00                User280  2017-07-07 12:48:00   \n",
       "4   2017-07-07 12:48:00                 User55  2017-07-07 12:48:00   \n",
       "\n",
       "     txtstatus  \n",
       "0  2_COMPLETED  \n",
       "1  2_COMPLETED  \n",
       "2  2_COMPLETED  \n",
       "3  2_COMPLETED  \n",
       "4  2_COMPLETED  \n",
       "\n",
       "[5 rows x 28 columns]"
      ]
     },
     "execution_count": 4,
     "metadata": {},
     "output_type": "execute_result"
    }
   ],
   "source": [
    "data.head(5)"
   ]
  },
  {
   "cell_type": "code",
   "execution_count": 5,
   "metadata": {},
   "outputs": [
    {
     "data": {
      "text/html": [
       "<div>\n",
       "<style scoped>\n",
       "    .dataframe tbody tr th:only-of-type {\n",
       "        vertical-align: middle;\n",
       "    }\n",
       "\n",
       "    .dataframe tbody tr th {\n",
       "        vertical-align: top;\n",
       "    }\n",
       "\n",
       "    .dataframe thead th {\n",
       "        text-align: right;\n",
       "    }\n",
       "</style>\n",
       "<table border=\"1\" class=\"dataframe\">\n",
       "  <thead>\n",
       "    <tr style=\"text-align: right;\">\n",
       "      <th></th>\n",
       "      <th>idcase</th>\n",
       "      <th>weight</th>\n",
       "    </tr>\n",
       "  </thead>\n",
       "  <tbody>\n",
       "    <tr>\n",
       "      <th>count</th>\n",
       "      <td>1.659060e+05</td>\n",
       "      <td>165906.000000</td>\n",
       "    </tr>\n",
       "    <tr>\n",
       "      <th>mean</th>\n",
       "      <td>3.354658e+06</td>\n",
       "      <td>1.206834</td>\n",
       "    </tr>\n",
       "    <tr>\n",
       "      <th>std</th>\n",
       "      <td>9.768260e+05</td>\n",
       "      <td>0.326958</td>\n",
       "    </tr>\n",
       "    <tr>\n",
       "      <th>min</th>\n",
       "      <td>1.267100e+04</td>\n",
       "      <td>0.500000</td>\n",
       "    </tr>\n",
       "    <tr>\n",
       "      <th>50%</th>\n",
       "      <td>3.623320e+06</td>\n",
       "      <td>1.000000</td>\n",
       "    </tr>\n",
       "    <tr>\n",
       "      <th>max</th>\n",
       "      <td>3.842058e+06</td>\n",
       "      <td>2.500000</td>\n",
       "    </tr>\n",
       "  </tbody>\n",
       "</table>\n",
       "</div>"
      ],
      "text/plain": [
       "             idcase         weight\n",
       "count  1.659060e+05  165906.000000\n",
       "mean   3.354658e+06       1.206834\n",
       "std    9.768260e+05       0.326958\n",
       "min    1.267100e+04       0.500000\n",
       "50%    3.623320e+06       1.000000\n",
       "max    3.842058e+06       2.500000"
      ]
     },
     "execution_count": 5,
     "metadata": {},
     "output_type": "execute_result"
    }
   ],
   "source": [
    "data.describe(percentiles=[.5])"
   ]
  },
  {
   "cell_type": "code",
   "execution_count": 6,
   "metadata": {},
   "outputs": [
    {
     "data": {
      "text/plain": [
       "idcase                        0\n",
       "txtprocess                    0\n",
       "csd                           0\n",
       "txtfranchise                  0\n",
       "txtdrugcode                   0\n",
       "txtgeneric_name               6\n",
       "txtcountry_of_incidence       0\n",
       "txtfile_name                  0\n",
       "txtmarrs_case_id           3632\n",
       "txtreporttype                 0\n",
       "weight                        0\n",
       "initial_follow_up            33\n",
       "userid_dmcs_imported          0\n",
       "date_dmcs_imported            0\n",
       "add_reason                  740\n",
       "date_dmcs_routed            971\n",
       "userid_dmcs_routed            0\n",
       "txtdmc                        2\n",
       "date_dmcs_received          208\n",
       "userid_coord_routed_by       77\n",
       "userid_coord_routed_to       79\n",
       "date_coord_routed            77\n",
       "date_coord_received         379\n",
       "userid_coord_processing     386\n",
       "date_coord_processing       386\n",
       "userid_coord_completed      841\n",
       "date_coord_completed        839\n",
       "txtstatus                     0\n",
       "dtype: int64"
      ]
     },
     "execution_count": 6,
     "metadata": {},
     "output_type": "execute_result"
    }
   ],
   "source": [
    "data.isnull().sum()"
   ]
  },
  {
   "cell_type": "code",
   "execution_count": 7,
   "metadata": {},
   "outputs": [
    {
     "data": {
      "text/plain": [
       "8656"
      ]
     },
     "execution_count": 7,
     "metadata": {},
     "output_type": "execute_result"
    }
   ],
   "source": [
    "data.isnull().sum().sum()"
   ]
  },
  {
   "cell_type": "markdown",
   "metadata": {},
   "source": [
    "Są tylko dwie kolumny numeryczne, cała reszta jest typu object. Jest trochę braków danych,ale nie jest to duża ilość w stosunku do ilości obserwacji."
   ]
  },
  {
   "cell_type": "markdown",
   "metadata": {},
   "source": [
    "# Zadanie 1"
   ]
  },
  {
   "cell_type": "markdown",
   "metadata": {},
   "source": [
    "Rozpocznę od zamiany odpowiednich kolumn na typ datetime, aby móc w łatwy sposób obliczyć rożnicę dni."
   ]
  },
  {
   "cell_type": "code",
   "execution_count": 8,
   "metadata": {},
   "outputs": [],
   "source": [
    "data['date_coord_completed'] = pd.to_datetime(data['date_coord_completed'])\n",
    "data['date_coord_received'] = pd.to_datetime(data['date_coord_received'])"
   ]
  },
  {
   "cell_type": "code",
   "execution_count": 9,
   "metadata": {},
   "outputs": [
    {
     "data": {
      "text/plain": [
       "0   04:48:00\n",
       "1   04:48:00\n",
       "2   04:48:00\n",
       "3   04:48:00\n",
       "4   04:48:00\n",
       "5   04:48:00\n",
       "6   04:48:00\n",
       "7   04:48:00\n",
       "8   04:48:00\n",
       "9   04:48:00\n",
       "Name: difference, dtype: timedelta64[ns]"
      ]
     },
     "execution_count": 9,
     "metadata": {},
     "output_type": "execute_result"
    }
   ],
   "source": [
    "data['difference'] = data['date_coord_completed'].sub(data['date_coord_received'], axis=0)\n",
    "data['difference'].head(10)"
   ]
  },
  {
   "cell_type": "code",
   "execution_count": 10,
   "metadata": {},
   "outputs": [
    {
     "data": {
      "text/plain": [
       "0 days 07:40:48    530\n",
       "0 days 08:00:00    324\n",
       "0 days 04:48:00    237\n",
       "0 days 05:16:48    155\n",
       "0 days 00:00:16     73\n",
       "                  ... \n",
       "5 days 02:14:53      1\n",
       "2 days 00:59:37      1\n",
       "0 days 07:28:23      1\n",
       "0 days 08:43:22      1\n",
       "0 days 04:31:53      1\n",
       "Name: difference, Length: 41379, dtype: int64"
      ]
     },
     "execution_count": 10,
     "metadata": {},
     "output_type": "execute_result"
    }
   ],
   "source": [
    "data['difference'].value_counts()"
   ]
  },
  {
   "cell_type": "markdown",
   "metadata": {},
   "source": [
    "Widzimy, iż najczęściej raporty były oddawane w okolicach 8 godzin od skończenia."
   ]
  },
  {
   "cell_type": "code",
   "execution_count": 11,
   "metadata": {},
   "outputs": [],
   "source": [
    "data['difference'] = data['difference']/np.timedelta64(1, 'h')"
   ]
  },
  {
   "cell_type": "markdown",
   "metadata": {},
   "source": [
    "Warto zapisać kolumnę z czasami oddawania raportu, jako że przyda się do użytku później. Dodatkowo zapiszę ją w fornie godzin, jako że w ten sposób łatwiej ją czytać."
   ]
  },
  {
   "cell_type": "markdown",
   "metadata": {},
   "source": [
    "# Zadanie 2"
   ]
  },
  {
   "cell_type": "code",
   "execution_count": 12,
   "metadata": {},
   "outputs": [
    {
     "data": {
      "text/plain": [
       "845"
      ]
     },
     "execution_count": 12,
     "metadata": {},
     "output_type": "execute_result"
    }
   ],
   "source": [
    "missing = data[data['date_coord_completed'].isnull() | data['date_coord_received'].isnull()]\n",
    "len(missing.index)"
   ]
  },
  {
   "cell_type": "markdown",
   "metadata": {},
   "source": [
    "Daty rozpoczęcia, bądź ukończenia brakuje w 845 rekordach."
   ]
  },
  {
   "cell_type": "code",
   "execution_count": 13,
   "metadata": {},
   "outputs": [
    {
     "data": {
      "text/plain": [
       "0         1\n",
       "1         1\n",
       "2         1\n",
       "3         1\n",
       "4         1\n",
       "         ..\n",
       "165901    0\n",
       "165902    0\n",
       "165903    0\n",
       "165904    0\n",
       "165905    0\n",
       "Name: missing, Length: 165906, dtype: int64"
      ]
     },
     "execution_count": 13,
     "metadata": {},
     "output_type": "execute_result"
    }
   ],
   "source": [
    "data['missing'] =  np.where(data['date_coord_completed'].isnull() | data['date_coord_received'].isnull(),0,1)\n",
    "data['missing']"
   ]
  },
  {
   "cell_type": "markdown",
   "metadata": {},
   "source": [
    "W prosty sposób za pomocą funkcji z pakietu numpy tworzymy nową kolumnę w której mamy 0, tam gdzie brakuje rozpoczęcia, bądź ukończenia raportu oraz 1 w przeciwynym wypadku."
   ]
  },
  {
   "cell_type": "markdown",
   "metadata": {},
   "source": [
    "# Zadanie 3"
   ]
  },
  {
   "cell_type": "code",
   "execution_count": 14,
   "metadata": {},
   "outputs": [],
   "source": [
    "data_nm = data.loc[data['missing'] == 1] #nm jako skrót od non missing"
   ]
  },
  {
   "cell_type": "markdown",
   "metadata": {},
   "source": [
    "Najpierw wybieram te rekordy w których nie brakuje danych w kolumnie missing"
   ]
  },
  {
   "cell_type": "code",
   "execution_count": 15,
   "metadata": {},
   "outputs": [
    {
     "data": {
      "text/plain": [
       "count    165061.000000\n",
       "mean          7.797456\n",
       "std          29.146636\n",
       "min         -12.934444\n",
       "50%           2.268056\n",
       "max        2739.195278\n",
       "Name: difference, dtype: float64"
      ]
     },
     "execution_count": 15,
     "metadata": {},
     "output_type": "execute_result"
    }
   ],
   "source": [
    "data_nm['difference'].describe(percentiles=[.5])"
   ]
  },
  {
   "cell_type": "markdown",
   "metadata": {},
   "source": [
    "Metoda describe w łatwy sposób udostępnia wszystkie statystyki o których mowa w zadaniu. Oczywiście mediana to drugi kwartyl. Jednoczęsnie widać, iż w danych mogą występować błędy, gdyż minimalna wartość różnicy czasu jest ujemna."
   ]
  },
  {
   "cell_type": "code",
   "execution_count": 16,
   "metadata": {},
   "outputs": [
    {
     "data": {
      "text/plain": [
       "ReportType2     48659\n",
       "ReportType1     21120\n",
       "ReportType3     18608\n",
       "ReportType5     17630\n",
       "ReportType11    16706\n",
       "ReportType10    14883\n",
       "ReportType9      7800\n",
       "ReportType8      6457\n",
       "ReportType4      5508\n",
       "ReportType7      4653\n",
       "ReportType6      2260\n",
       "ReportType18      474\n",
       "ReportType14      110\n",
       "ReportType12       98\n",
       "ReportType16       42\n",
       "ReportType19       19\n",
       "ReportType15       19\n",
       "ReportType17        5\n",
       "ReportType20        2\n",
       "ReportType13        2\n",
       "ReportType22        2\n",
       "ReportType23        2\n",
       "ReportType24        1\n",
       "ReportType21        1\n",
       "Name: txtreporttype, dtype: int64"
      ]
     },
     "execution_count": 16,
     "metadata": {},
     "output_type": "execute_result"
    }
   ],
   "source": [
    "data_nm['txtreporttype'].value_counts()"
   ]
  },
  {
   "cell_type": "markdown",
   "metadata": {},
   "source": [
    "Mamy kilkanaście typów raportów, jednocześnie dość znacząco różnią się one popularnością."
   ]
  },
  {
   "cell_type": "code",
   "execution_count": 17,
   "metadata": {},
   "outputs": [
    {
     "data": {
      "text/html": [
       "<div>\n",
       "<style scoped>\n",
       "    .dataframe tbody tr th:only-of-type {\n",
       "        vertical-align: middle;\n",
       "    }\n",
       "\n",
       "    .dataframe tbody tr th {\n",
       "        vertical-align: top;\n",
       "    }\n",
       "\n",
       "    .dataframe thead tr th {\n",
       "        text-align: left;\n",
       "    }\n",
       "\n",
       "    .dataframe thead tr:last-of-type th {\n",
       "        text-align: right;\n",
       "    }\n",
       "</style>\n",
       "<table border=\"1\" class=\"dataframe\">\n",
       "  <thead>\n",
       "    <tr>\n",
       "      <th></th>\n",
       "      <th colspan=\"6\" halign=\"left\">difference</th>\n",
       "    </tr>\n",
       "    <tr>\n",
       "      <th></th>\n",
       "      <th>count</th>\n",
       "      <th>mean</th>\n",
       "      <th>std</th>\n",
       "      <th>min</th>\n",
       "      <th>50%</th>\n",
       "      <th>max</th>\n",
       "    </tr>\n",
       "    <tr>\n",
       "      <th>txtreporttype</th>\n",
       "      <th></th>\n",
       "      <th></th>\n",
       "      <th></th>\n",
       "      <th></th>\n",
       "      <th></th>\n",
       "      <th></th>\n",
       "    </tr>\n",
       "  </thead>\n",
       "  <tbody>\n",
       "    <tr>\n",
       "      <th>ReportType1</th>\n",
       "      <td>21120.0</td>\n",
       "      <td>22.677656</td>\n",
       "      <td>58.135784</td>\n",
       "      <td>-5.106111</td>\n",
       "      <td>4.234583</td>\n",
       "      <td>1006.786944</td>\n",
       "    </tr>\n",
       "    <tr>\n",
       "      <th>ReportType10</th>\n",
       "      <td>14883.0</td>\n",
       "      <td>6.518777</td>\n",
       "      <td>22.082435</td>\n",
       "      <td>-12.800000</td>\n",
       "      <td>2.038056</td>\n",
       "      <td>579.849722</td>\n",
       "    </tr>\n",
       "    <tr>\n",
       "      <th>ReportType11</th>\n",
       "      <td>16706.0</td>\n",
       "      <td>4.813013</td>\n",
       "      <td>27.158196</td>\n",
       "      <td>-10.228056</td>\n",
       "      <td>2.290000</td>\n",
       "      <td>2739.195278</td>\n",
       "    </tr>\n",
       "    <tr>\n",
       "      <th>ReportType12</th>\n",
       "      <td>98.0</td>\n",
       "      <td>11.138399</td>\n",
       "      <td>39.776412</td>\n",
       "      <td>-8.083611</td>\n",
       "      <td>2.892500</td>\n",
       "      <td>319.391111</td>\n",
       "    </tr>\n",
       "    <tr>\n",
       "      <th>ReportType13</th>\n",
       "      <td>2.0</td>\n",
       "      <td>4.604028</td>\n",
       "      <td>0.721052</td>\n",
       "      <td>4.094167</td>\n",
       "      <td>4.604028</td>\n",
       "      <td>5.113889</td>\n",
       "    </tr>\n",
       "    <tr>\n",
       "      <th>ReportType14</th>\n",
       "      <td>110.0</td>\n",
       "      <td>9.320770</td>\n",
       "      <td>15.679194</td>\n",
       "      <td>0.006111</td>\n",
       "      <td>3.697778</td>\n",
       "      <td>125.416389</td>\n",
       "    </tr>\n",
       "    <tr>\n",
       "      <th>ReportType15</th>\n",
       "      <td>19.0</td>\n",
       "      <td>10.193158</td>\n",
       "      <td>10.399703</td>\n",
       "      <td>0.008611</td>\n",
       "      <td>7.195556</td>\n",
       "      <td>29.563611</td>\n",
       "    </tr>\n",
       "    <tr>\n",
       "      <th>ReportType16</th>\n",
       "      <td>42.0</td>\n",
       "      <td>13.067341</td>\n",
       "      <td>53.181865</td>\n",
       "      <td>-0.652500</td>\n",
       "      <td>2.256389</td>\n",
       "      <td>344.687500</td>\n",
       "    </tr>\n",
       "    <tr>\n",
       "      <th>ReportType17</th>\n",
       "      <td>5.0</td>\n",
       "      <td>5.293833</td>\n",
       "      <td>2.366210</td>\n",
       "      <td>2.729722</td>\n",
       "      <td>4.111111</td>\n",
       "      <td>8.238333</td>\n",
       "    </tr>\n",
       "    <tr>\n",
       "      <th>ReportType18</th>\n",
       "      <td>474.0</td>\n",
       "      <td>4.141089</td>\n",
       "      <td>8.114463</td>\n",
       "      <td>0.198611</td>\n",
       "      <td>2.788333</td>\n",
       "      <td>120.567222</td>\n",
       "    </tr>\n",
       "    <tr>\n",
       "      <th>ReportType19</th>\n",
       "      <td>19.0</td>\n",
       "      <td>15.199386</td>\n",
       "      <td>38.401789</td>\n",
       "      <td>0.218056</td>\n",
       "      <td>2.312222</td>\n",
       "      <td>169.493333</td>\n",
       "    </tr>\n",
       "    <tr>\n",
       "      <th>ReportType2</th>\n",
       "      <td>48659.0</td>\n",
       "      <td>5.032278</td>\n",
       "      <td>16.226858</td>\n",
       "      <td>-12.934444</td>\n",
       "      <td>1.658611</td>\n",
       "      <td>532.215556</td>\n",
       "    </tr>\n",
       "    <tr>\n",
       "      <th>ReportType20</th>\n",
       "      <td>2.0</td>\n",
       "      <td>3.678611</td>\n",
       "      <td>5.189771</td>\n",
       "      <td>0.008889</td>\n",
       "      <td>3.678611</td>\n",
       "      <td>7.348333</td>\n",
       "    </tr>\n",
       "    <tr>\n",
       "      <th>ReportType21</th>\n",
       "      <td>1.0</td>\n",
       "      <td>48.477778</td>\n",
       "      <td>NaN</td>\n",
       "      <td>48.477778</td>\n",
       "      <td>48.477778</td>\n",
       "      <td>48.477778</td>\n",
       "    </tr>\n",
       "    <tr>\n",
       "      <th>ReportType22</th>\n",
       "      <td>2.0</td>\n",
       "      <td>1.077361</td>\n",
       "      <td>0.415032</td>\n",
       "      <td>0.783889</td>\n",
       "      <td>1.077361</td>\n",
       "      <td>1.370833</td>\n",
       "    </tr>\n",
       "    <tr>\n",
       "      <th>ReportType23</th>\n",
       "      <td>2.0</td>\n",
       "      <td>10.514167</td>\n",
       "      <td>0.062461</td>\n",
       "      <td>10.470000</td>\n",
       "      <td>10.514167</td>\n",
       "      <td>10.558333</td>\n",
       "    </tr>\n",
       "    <tr>\n",
       "      <th>ReportType24</th>\n",
       "      <td>1.0</td>\n",
       "      <td>0.988889</td>\n",
       "      <td>NaN</td>\n",
       "      <td>0.988889</td>\n",
       "      <td>0.988889</td>\n",
       "      <td>0.988889</td>\n",
       "    </tr>\n",
       "    <tr>\n",
       "      <th>ReportType3</th>\n",
       "      <td>18608.0</td>\n",
       "      <td>4.774359</td>\n",
       "      <td>10.747293</td>\n",
       "      <td>-10.231667</td>\n",
       "      <td>2.361250</td>\n",
       "      <td>531.845556</td>\n",
       "    </tr>\n",
       "    <tr>\n",
       "      <th>ReportType4</th>\n",
       "      <td>5508.0</td>\n",
       "      <td>4.088019</td>\n",
       "      <td>11.498362</td>\n",
       "      <td>-7.497500</td>\n",
       "      <td>1.815694</td>\n",
       "      <td>295.109444</td>\n",
       "    </tr>\n",
       "    <tr>\n",
       "      <th>ReportType5</th>\n",
       "      <td>17630.0</td>\n",
       "      <td>6.323935</td>\n",
       "      <td>29.108441</td>\n",
       "      <td>-11.731111</td>\n",
       "      <td>2.428611</td>\n",
       "      <td>1658.680833</td>\n",
       "    </tr>\n",
       "    <tr>\n",
       "      <th>ReportType6</th>\n",
       "      <td>2260.0</td>\n",
       "      <td>4.037537</td>\n",
       "      <td>13.694973</td>\n",
       "      <td>-9.836111</td>\n",
       "      <td>2.026389</td>\n",
       "      <td>389.108889</td>\n",
       "    </tr>\n",
       "    <tr>\n",
       "      <th>ReportType7</th>\n",
       "      <td>4653.0</td>\n",
       "      <td>15.254259</td>\n",
       "      <td>36.951719</td>\n",
       "      <td>0.003889</td>\n",
       "      <td>3.837500</td>\n",
       "      <td>481.945278</td>\n",
       "    </tr>\n",
       "    <tr>\n",
       "      <th>ReportType8</th>\n",
       "      <td>6457.0</td>\n",
       "      <td>5.049481</td>\n",
       "      <td>25.543010</td>\n",
       "      <td>-11.217500</td>\n",
       "      <td>2.279167</td>\n",
       "      <td>703.392222</td>\n",
       "    </tr>\n",
       "    <tr>\n",
       "      <th>ReportType9</th>\n",
       "      <td>7800.0</td>\n",
       "      <td>5.773058</td>\n",
       "      <td>13.436976</td>\n",
       "      <td>-9.305278</td>\n",
       "      <td>3.277778</td>\n",
       "      <td>795.349444</td>\n",
       "    </tr>\n",
       "  </tbody>\n",
       "</table>\n",
       "</div>"
      ],
      "text/plain": [
       "              difference                                              \\\n",
       "                   count       mean        std        min        50%   \n",
       "txtreporttype                                                          \n",
       "ReportType1      21120.0  22.677656  58.135784  -5.106111   4.234583   \n",
       "ReportType10     14883.0   6.518777  22.082435 -12.800000   2.038056   \n",
       "ReportType11     16706.0   4.813013  27.158196 -10.228056   2.290000   \n",
       "ReportType12        98.0  11.138399  39.776412  -8.083611   2.892500   \n",
       "ReportType13         2.0   4.604028   0.721052   4.094167   4.604028   \n",
       "ReportType14       110.0   9.320770  15.679194   0.006111   3.697778   \n",
       "ReportType15        19.0  10.193158  10.399703   0.008611   7.195556   \n",
       "ReportType16        42.0  13.067341  53.181865  -0.652500   2.256389   \n",
       "ReportType17         5.0   5.293833   2.366210   2.729722   4.111111   \n",
       "ReportType18       474.0   4.141089   8.114463   0.198611   2.788333   \n",
       "ReportType19        19.0  15.199386  38.401789   0.218056   2.312222   \n",
       "ReportType2      48659.0   5.032278  16.226858 -12.934444   1.658611   \n",
       "ReportType20         2.0   3.678611   5.189771   0.008889   3.678611   \n",
       "ReportType21         1.0  48.477778        NaN  48.477778  48.477778   \n",
       "ReportType22         2.0   1.077361   0.415032   0.783889   1.077361   \n",
       "ReportType23         2.0  10.514167   0.062461  10.470000  10.514167   \n",
       "ReportType24         1.0   0.988889        NaN   0.988889   0.988889   \n",
       "ReportType3      18608.0   4.774359  10.747293 -10.231667   2.361250   \n",
       "ReportType4       5508.0   4.088019  11.498362  -7.497500   1.815694   \n",
       "ReportType5      17630.0   6.323935  29.108441 -11.731111   2.428611   \n",
       "ReportType6       2260.0   4.037537  13.694973  -9.836111   2.026389   \n",
       "ReportType7       4653.0  15.254259  36.951719   0.003889   3.837500   \n",
       "ReportType8       6457.0   5.049481  25.543010 -11.217500   2.279167   \n",
       "ReportType9       7800.0   5.773058  13.436976  -9.305278   3.277778   \n",
       "\n",
       "                            \n",
       "                       max  \n",
       "txtreporttype               \n",
       "ReportType1    1006.786944  \n",
       "ReportType10    579.849722  \n",
       "ReportType11   2739.195278  \n",
       "ReportType12    319.391111  \n",
       "ReportType13      5.113889  \n",
       "ReportType14    125.416389  \n",
       "ReportType15     29.563611  \n",
       "ReportType16    344.687500  \n",
       "ReportType17      8.238333  \n",
       "ReportType18    120.567222  \n",
       "ReportType19    169.493333  \n",
       "ReportType2     532.215556  \n",
       "ReportType20      7.348333  \n",
       "ReportType21     48.477778  \n",
       "ReportType22      1.370833  \n",
       "ReportType23     10.558333  \n",
       "ReportType24      0.988889  \n",
       "ReportType3     531.845556  \n",
       "ReportType4     295.109444  \n",
       "ReportType5    1658.680833  \n",
       "ReportType6     389.108889  \n",
       "ReportType7     481.945278  \n",
       "ReportType8     703.392222  \n",
       "ReportType9     795.349444  "
      ]
     },
     "execution_count": 17,
     "metadata": {},
     "output_type": "execute_result"
    }
   ],
   "source": [
    "raport_data = data_nm[['txtreporttype','difference']]\n",
    "raport_data.groupby('txtreporttype').describe(percentiles=[.5])"
   ]
  },
  {
   "cell_type": "markdown",
   "metadata": {},
   "source": [
    "Zbiorowa ramka dla wszystkich typów w zwięzły sposób przedstawia wszystkie statystyki opisowe, które chcieliśmy zobaczyć, a nawet trochę więcej, bo mamy do dyspozycji też liczność, minimum oraz maximum."
   ]
  },
  {
   "cell_type": "code",
   "execution_count": 18,
   "metadata": {},
   "outputs": [
    {
     "data": {
      "text/plain": [
       "count    444.000000\n",
       "mean       4.407719\n",
       "std        9.964201\n",
       "min        0.025556\n",
       "25%        0.969583\n",
       "50%        2.102222\n",
       "75%        4.481667\n",
       "max      120.688333\n",
       "Name: difference, dtype: float64"
      ]
     },
     "execution_count": 18,
     "metadata": {},
     "output_type": "execute_result"
    }
   ],
   "source": [
    "mask = (data_nm['date_coord_completed'] >'2017-11-01') & (data_nm['date_coord_completed'] <= '2017-11-30')\n",
    "data_nov = data_nm.loc[mask]\n",
    "data_nov = data_nov.loc[data['txtreporttype']=='ReportType4']\n",
    "data_nov.describe()['difference']"
   ]
  },
  {
   "cell_type": "markdown",
   "metadata": {},
   "source": [
    "W ostatniej części tego zadania, najpierw wybieram rekordy z odpowiedniego przedziału czasowego, a następnie odpowiedni typ raportu, tak jak w poleceniu."
   ]
  },
  {
   "cell_type": "markdown",
   "metadata": {},
   "source": [
    "# Zadanie 4"
   ]
  },
  {
   "cell_type": "code",
   "execution_count": 19,
   "metadata": {},
   "outputs": [
    {
     "data": {
      "text/plain": [
       "<matplotlib.axes._subplots.AxesSubplot at 0x7fb62bbccd50>"
      ]
     },
     "execution_count": 19,
     "metadata": {},
     "output_type": "execute_result"
    },
    {
     "data": {
      "image/png": "[encoded data removed]",
      "text/plain": [
       "<Figure size 720x360 with 1 Axes>"
      ]
     },
     "metadata": {
      "needs_background": "light"
     },
     "output_type": "display_data"
    }
   ],
   "source": [
    "sns.distplot(data['difference'])"
   ]
  },
  {
   "cell_type": "markdown",
   "metadata": {},
   "source": [
    "Na podstawie tego rysunku ciężko stwierdzić jaki rozkład ma ta zmienna. Spróbuję przyciąć parę obserwacji odstających, aby złapać lepszy obraz rozkładu."
   ]
  },
  {
   "cell_type": "code",
   "execution_count": 20,
   "metadata": {},
   "outputs": [
    {
     "data": {
      "text/plain": [
       "12"
      ]
     },
     "execution_count": 20,
     "metadata": {},
     "output_type": "execute_result"
    }
   ],
   "source": [
    "dist = data_nm['difference']\n",
    "dist = dist[dist<750]\n",
    "data_nm['difference'].shape[0] - dist.shape[0]"
   ]
  },
  {
   "cell_type": "markdown",
   "metadata": {},
   "source": [
    "Zaledwie 12 obserwacji ma czas wykonania większy niż 500 godzin."
   ]
  },
  {
   "cell_type": "code",
   "execution_count": 21,
   "metadata": {},
   "outputs": [
    {
     "data": {
      "text/plain": [
       "<matplotlib.axes._subplots.AxesSubplot at 0x7fb62edf5150>"
      ]
     },
     "execution_count": 21,
     "metadata": {},
     "output_type": "execute_result"
    },
    {
     "data": {
      "image/png": "[encoded data removed]",
      "text/plain": [
       "<Figure size 720x360 with 1 Axes>"
      ]
     },
     "metadata": {
      "needs_background": "light"
     },
     "output_type": "display_data"
    }
   ],
   "source": [
    "dist = dist[dist>0]\n",
    "sns.distplot(dist)"
   ]
  },
  {
   "cell_type": "markdown",
   "metadata": {},
   "source": [
    "W dalszym ciągu ciężko o jednoznaczną identyfikację, aczkolwiek rozkład przypomina wykładniczy."
   ]
  },
  {
   "cell_type": "code",
   "execution_count": 58,
   "metadata": {},
   "outputs": [
    {
     "name": "stdout",
     "output_type": "stream",
     "text": [
      "p value for norm = 0.0\n",
      "p value for exponweib = 0.0\n",
      "p value for weibull_max = 0.0\n",
      "p value for weibull_min = 0.0\n",
      "p value for pareto = 0.0\n",
      "p value for genextreme = 1.8048264694587818e-91\n",
      "p value for expon = 0.0\n"
     ]
    },
    {
     "data": {
      "text/plain": [
       "('genextreme',\n",
       " 1.8048264694587818e-91,\n",
       " (-0.8318668170344832, 1.5152350354380881, 1.67678296347846))"
      ]
     },
     "execution_count": 58,
     "metadata": {},
     "output_type": "execute_result"
    }
   ],
   "source": [
    "import scipy.stats as st\n",
    "def get_best_distribution(data):\n",
    "    dist_names = [\"norm\", \"exponweib\", \"weibull_max\", \"weibull_min\", \"pareto\", \"genextreme\",'expon']\n",
    "    dist_results = []\n",
    "    params = {}\n",
    "    for dist_name in dist_names:\n",
    "        dist = getattr(st, dist_name)\n",
    "        param = dist.fit(data)\n",
    "        params[dist_name] = param\n",
    "        D, p = st.kstest(data, dist_name, args=param)\n",
    "        print(\"p value for \"+dist_name+\" = \"+str(p))\n",
    "        dist_results.append((dist_name, p))\n",
    "    best_dist, best_p = (max(dist_results, key=lambda item: item[1]))\n",
    "    return best_dist, best_p, params[best_dist]\n",
    "get_best_distribution(dist)"
   ]
  },
  {
   "cell_type": "markdown",
   "metadata": {},
   "source": [
    "Wszystkie wartości p-value w teście Kołmogorowa-Smirnova wyszly praktycznie zerowe, w związku z tym moja teza dalej jest niepotwierdzona, aczkolwiek myślę, iż po odpowiednim dopasowaniu parametrów, byłoby możliwe poprawienie wyników, zwłaszcza dla wcześniej wspomnianego rozkładu wykładniczego."
   ]
  },
  {
   "cell_type": "markdown",
   "metadata": {},
   "source": [
    "# Zadanie 5"
   ]
  },
  {
   "cell_type": "markdown",
   "metadata": {},
   "source": [
    "Jako datę wykonania zgłoszenia rozumiem kolumnę 'date_coord_completed'."
   ]
  },
  {
   "cell_type": "code",
   "execution_count": 23,
   "metadata": {},
   "outputs": [],
   "source": [
    "data['dmcs_month'] = data['date_coord_completed'].dt.month"
   ]
  },
  {
   "cell_type": "code",
   "execution_count": 26,
   "metadata": {},
   "outputs": [
    {
     "data": {
      "text/plain": [
       "(array([0, 1, 2, 3, 4, 5]), <a list of 6 Text xticklabel objects>)"
      ]
     },
     "execution_count": 26,
     "metadata": {},
     "output_type": "execute_result"
    },
    {
     "data": {
      "image/png": "[encoded data removed]",
      "text/plain": [
       "<Figure size 720x360 with 1 Axes>"
      ]
     },
     "metadata": {
      "needs_background": "light"
     },
     "output_type": "display_data"
    }
   ],
   "source": [
    "plot_data = data[['dmcs_month','txtdmc']]\n",
    "plot_data.groupby(['txtdmc','dmcs_month']).agg(len).unstack(0).plot.bar()\n",
    "plt.xticks(rotation=0)"
   ]
  },
  {
   "cell_type": "markdown",
   "metadata": {},
   "source": [
    "Najpierw dobieram sobie odpowiednie kolumny oraz na ich podstawie tworzę wykres."
   ]
  },
  {
   "cell_type": "markdown",
   "metadata": {},
   "source": [
    "# Zadanie 6"
   ]
  },
  {
   "cell_type": "code",
   "execution_count": 44,
   "metadata": {},
   "outputs": [
    {
     "data": {
      "text/plain": [
       "(array([ 0,  1,  2,  3,  4,  5,  6,  7,  8,  9, 10, 11, 12, 13, 14, 15, 16,\n",
       "        17, 18, 19, 20, 21, 22, 23]),\n",
       " <a list of 24 Text xticklabel objects>)"
      ]
     },
     "execution_count": 44,
     "metadata": {},
     "output_type": "execute_result"
    },
    {
     "data": {
      "image/png": "[encoded data removed]",
      "text/plain": [
       "<Figure size 1440x720 with 1 Axes>"
      ]
     },
     "metadata": {
      "needs_background": "light"
     },
     "output_type": "display_data"
    }
   ],
   "source": [
    "plt.rcParams[\"figure.figsize\"] = [20, 10]\n",
    "data['dmcs_hour'] = data['date_coord_completed'].dt.hour\n",
    "plot_data = data[['dmcs_hour','txtdmc']]\n",
    "plot_data.groupby(['txtdmc','dmcs_hour']).agg(len).unstack(0).plot.bar()\n",
    "plt.xticks(rotation=0)"
   ]
  },
  {
   "cell_type": "markdown",
   "metadata": {},
   "source": [
    "Postępujemy bardzo analogicznie jak w poprzednim punkcie, tylko że zamiast miesiąca wybieramy godziny."
   ]
  },
  {
   "cell_type": "markdown",
   "metadata": {},
   "source": [
    "# Zadanie 7"
   ]
  },
  {
   "cell_type": "code",
   "execution_count": 41,
   "metadata": {},
   "outputs": [
    {
     "data": {
      "text/plain": [
       "User82     1231\n",
       "User424    1085\n",
       "User359    1044\n",
       "User122    1000\n",
       "User380     960\n",
       "Name: userid_coord_completed, dtype: int64"
      ]
     },
     "execution_count": 41,
     "metadata": {},
     "output_type": "execute_result"
    }
   ],
   "source": [
    "top = data['userid_coord_completed'].value_counts().sort_values(ascending=False).head(5)\n",
    "top "
   ]
  },
  {
   "cell_type": "markdown",
   "metadata": {},
   "source": [
    "Wybieramy najcześciej występujących użytkowników za pomocą metody value counts, a następnie metody head, która zwraca topowe wyniki."
   ]
  },
  {
   "cell_type": "code",
   "execution_count": 38,
   "metadata": {},
   "outputs": [
    {
     "data": {
      "text/plain": [
       "<matplotlib.axes._subplots.AxesSubplot at 0x7fb631125d50>"
      ]
     },
     "execution_count": 38,
     "metadata": {},
     "output_type": "execute_result"
    },
    {
     "data": {
      "image/png": "[encoded data removed]",
      "text/plain": [
       "<Figure size 720x360 with 1 Axes>"
      ]
     },
     "metadata": {
      "needs_background": "light"
     },
     "output_type": "display_data"
    }
   ],
   "source": [
    "plt.rcParams[\"figure.figsize\"] = [10, 5]\n",
    "top.plot(kind='barh')"
   ]
  },
  {
   "cell_type": "markdown",
   "metadata": {},
   "source": [
    "# Zadanie 8"
   ]
  },
  {
   "cell_type": "code",
   "execution_count": 31,
   "metadata": {},
   "outputs": [],
   "source": [
    "ended = data[['txtstatus','txtdmc']]\n",
    "ended = data.loc[data['txtstatus'] == '2_COMPLETED']"
   ]
  },
  {
   "cell_type": "markdown",
   "metadata": {},
   "source": [
    "Działamy podobnie jak w poprzednim punkcie, z tą różnicą że wybieramy najpierw tylko ukończone zgłoszenia, aby móc je potem pogrupować po oddziale."
   ]
  },
  {
   "cell_type": "code",
   "execution_count": 42,
   "metadata": {},
   "outputs": [
    {
     "data": {
      "text/plain": [
       "txtdmc\n",
       "DMC3    0.285510\n",
       "DMC1    0.248604\n",
       "DMC4    0.225619\n",
       "DMC2    0.218373\n",
       "DMC5    0.021840\n",
       "DMC6    0.000055\n",
       "Name: txtstatus, dtype: float64"
      ]
     },
     "execution_count": 42,
     "metadata": {},
     "output_type": "execute_result"
    }
   ],
   "source": [
    "ended_perc = ended.groupby('txtdmc').txtstatus.agg(len)/len(ended)\n",
    "ended_perc = ended_perc.sort_values(ascending=False)\n",
    "ended_perc"
   ]
  },
  {
   "cell_type": "markdown",
   "metadata": {},
   "source": [
    "Dzielimy całościową ilośc danych na oddział przez sumę wszystkich i w ten sposób otrzymujemy ładnie procentowe wyniki."
   ]
  },
  {
   "cell_type": "code",
   "execution_count": 43,
   "metadata": {},
   "outputs": [
    {
     "data": {
      "text/plain": [
       "<matplotlib.axes._subplots.AxesSubplot at 0x7fb63183ff50>"
      ]
     },
     "execution_count": 43,
     "metadata": {},
     "output_type": "execute_result"
    },
    {
     "data": {
      "image/png": "[encoded data removed]",
      "text/plain": [
       "<Figure size 720x360 with 1 Axes>"
      ]
     },
     "metadata": {
      "needs_background": "light"
     },
     "output_type": "display_data"
    }
   ],
   "source": [
    "ended_perc.plot(kind='barh')"
   ]
  }
 ],
 "metadata": {
  "kernelspec": {
   "display_name": "Python 3",
   "language": "python",
   "name": "python3"
  },
  "language_info": {
   "codemirror_mode": {
    "name": "ipython",
    "version": 3
   },
   "file_extension": ".py",
   "mimetype": "text/x-python",
   "name": "python",
   "nbconvert_exporter": "python",
   "pygments_lexer": "ipython3",
   "version": "3.7.6"
  }
 },
 "nbformat": 4,
 "nbformat_minor": 4
}
